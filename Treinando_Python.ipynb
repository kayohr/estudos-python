{
  "nbformat": 4,
  "nbformat_minor": 0,
  "metadata": {
    "colab": {
      "provenance": [],
      "authorship_tag": "ABX9TyOky46Mv6T0uXXk6gxiouSN",
      "include_colab_link": true
    },
    "kernelspec": {
      "name": "python3",
      "display_name": "Python 3"
    },
    "language_info": {
      "name": "python"
    }
  },
  "cells": [
    {
      "cell_type": "markdown",
      "metadata": {
        "id": "view-in-github",
        "colab_type": "text"
      },
      "source": [
        "<a href=\"https://colab.research.google.com/github/kayohr/estudos-python/blob/main/Treinando_Python.ipynb\" target=\"_parent\"><img src=\"https://colab.research.google.com/assets/colab-badge.svg\" alt=\"Open In Colab\"/></a>"
      ]
    },
    {
      "cell_type": "code",
      "execution_count": null,
      "metadata": {
        "id": "opRbUbBA38lW"
      },
      "outputs": [],
      "source": [
        "#'capital inicial'.split()\n",
        "#'capital inicial'.startswith('c')\n",
        "'capital inicial'.startswith('C')\n",
        "#'capital inicial'.upper().startswith('B')\n",
        "#'capital inicial'.upper().endswith('B')\n",
        "#'capital inicial'.upper().endswith('l')\n",
        "#'capital inicial'.upper().endswith('L')"
      ]
    },
    {
      "cell_type": "code",
      "source": [
        "msg = 'Olá, %s você é o player n %d e você tem %.2f pontos'\n",
        "msg % (\"fulano\", 2, 978)"
      ],
      "metadata": {
        "id": "DI0-CvVVE7SH"
      },
      "execution_count": null,
      "outputs": []
    },
    {
      "cell_type": "code",
      "source": [
        "email_tmpl = \"\"\"\n",
        "Olá, %(nome)s\n",
        "\n",
        "Tem interesse em comprar %(produtos)s?\n",
        "\n",
        "Este produto é ótimo para resolver %(texto)s\n",
        "\n",
        "Clique aogra em %(link)s\n",
        "\n",
        "Apenas %(quantidade)d caixas disponiveis\n",
        "\n",
        "Preço promocional %(preco).2f cada!\n",
        "\"\"\"\n",
        "\n",
        "clientes = [\"Joao\", \"Maria\", \"Fulano\"]\n",
        "\n",
        "for cliente in clientes:\n",
        "    print(email_tmpl % {\"nome\": cliente, \"produtos\": \"caneta\", \"texto\": \"Escreve muito\",\n",
        "                        \"link\":\"www:lojaboa.com.br\", \"quantidade\": 10,\n",
        "                        \"preco\": 20.5}\n",
        "          )"
      ],
      "metadata": {
        "id": "OQfMfOZVSWAr"
      },
      "execution_count": null,
      "outputs": []
    },
    {
      "cell_type": "code",
      "source": [
        "#msg = 'Olá, {} você é o player n {} e você tem {} pontos'\n",
        "\n",
        "msg = 'Olá, {} você é o player n {:03d} e você tem {:.3f} pontos'\n",
        "\n",
        "msg.format(\"fulano\", 2, 978)"
      ],
      "metadata": {
        "id": "58yxRTy9F0O6"
      },
      "execution_count": null,
      "outputs": []
    },
    {
      "cell_type": "code",
      "source": [
        "#\"{:#^11}\".format(\"valor\")\n",
        "\n",
        "#\"{:-^10.4f}\".format(450.500)\n",
        "\n",
        "\n",
        "msg = 'Olá, {nome} você é o player n {num:03d} e você tem {pont:.3f} pontos'\n",
        "\n",
        "msg.format(nome=\"fulano\",num= 2,pont= 978)"
      ],
      "metadata": {
        "colab": {
          "base_uri": "https://localhost:8080/",
          "height": 36
        },
        "id": "wmIeYyfYHCHq",
        "outputId": "f8a26fe8-b84c-4cfd-fcef-8cd8e3232c48"
      },
      "execution_count": null,
      "outputs": [
        {
          "output_type": "execute_result",
          "data": {
            "text/plain": [
              "'Olá, fulano você é o player n 002 e você tem 978.000 pontos'"
            ],
            "application/vnd.google.colaboratory.intrinsic+json": {
              "type": "string"
            }
          },
          "metadata": {},
          "execution_count": 2
        }
      ]
    },
    {
      "cell_type": "code",
      "source": [
        "#numeros = list(range(1,11))\n",
        "\n",
        "#for numero in numeros:\n",
        "#    print(\"Tabuada do:\", numero)\n",
        "#    for outro_numero in numeros:\n",
        "#      print(numero * outro_numero)\n",
        "#    print(\"--------\")\n",
        "\n",
        "template = \"\"\"\n",
        "---Tabuada do 2---\n",
        "\n",
        "    {operacoes}\n",
        "##################\n",
        "\"\"\"\n",
        "\n",
        "numeros = list(range(1,11))\n",
        "\n",
        "#for n1 in numeros:\n",
        "#    operacoes = \"\"\n",
        "#    for n2 in numeros:\n",
        "        #resultado = n1 * n2\n",
        "        #operacao = f\"{n1} x {n2} = {n1 * n2}\"\n",
        "        #operacoes = opercaoes + bloco\n",
        "#        operacoes += f\"{n1} x {n2} = {n1 * n2}\"\n",
        "#        print(template.format(operacoes=operacoes))\n",
        "\n",
        "\n",
        "for n1 in numeros:\n",
        "    print(\"{:-^18}\".format(f\"Tabuada de {n1}\"))\n",
        "    print()\n",
        "    for n2 in numeros:\n",
        "        resultado = n1 * n2\n",
        "        print(\"{:^18}\".format(f\"{n1} x {n2} = {resultado}\"))\n",
        "    print(\"#\" * 18)\n",
        "\n",
        "\n"
      ],
      "metadata": {
        "id": "RVfl_q_XHu7w"
      },
      "execution_count": null,
      "outputs": []
    },
    {
      "cell_type": "code",
      "source": [
        "#resultado = []\n",
        "#for x in range(9):\n",
        "#  resultado.append(x * 4)\n",
        "#resultado\n",
        "#24 in resultado\n",
        "\n",
        "sala1 = ['Fulano', 'Davi', 'Joao', 'Eli', 'Zac', 'Maria']\n",
        "sala2 = ['Maia', 'Joana', 'Erik', 'Carlos', 'Rony']\n",
        "\n",
        "aula_ingles = ['Fulano', 'Davi', 'Maria', 'Erik', 'Joana']\n",
        "aula_musica = ['Fulano', 'Maria', 'Erik']\n",
        "auala_danca = ['Joao', 'Zac', 'Maria', 'Joana']\n",
        "\n",
        "aula_ingles_sala1 = []\n",
        "aula_ingles_sala2 = []\n",
        "\n",
        "for aluno in aula_ingles:\n",
        "  if aluno in sala1:\n",
        "    aula_ingles_sala1.append(aluno)\n",
        "    print('Ingles sala1 chamada', aula_ingles_sala1)\n",
        "  elif aluno in sala2:\n",
        "    aula_ingles_sala2.append(aluno)\n",
        "    print('Ingles sala2 chamada', aula_ingles_sala2)\n",
        "\n",
        "print()\n",
        "print('Ingles sala1', aula_ingles_sala1)\n",
        "print('Ingles sala2', aula_ingles_sala2)"
      ],
      "metadata": {
        "id": "KkAF1jn7fRQK"
      },
      "execution_count": null,
      "outputs": []
    },
    {
      "cell_type": "code",
      "source": [
        "sala1 = ['Fulano', 'Davi', 'Joao', 'Eli', 'Zac', 'Maria']\n",
        "sala2 = ['Maia', 'Joana', 'Erik', 'Carlos', 'Rony']\n",
        "\n",
        "aula_ingles = ['Fulano', 'Davi', 'Maria', 'Erik', 'Joana']\n",
        "aula_musica = ['Fulano', 'Maria', 'Erik']\n",
        "aula_danca = ['Joao', 'Zac', 'Maria', 'Joana']\n",
        "\n",
        "atividades = [(\"Ingles\", aula_ingles), (\"Musica\", aula_musica), (\"Dnaca\", aula_danca)]\n",
        "\n",
        "\n",
        "for nome_atividade, atividade in atividades:\n",
        "    atividade_sala1 = []\n",
        "    atividade_sala2 = []\n",
        "\n",
        "    for aluno in atividade:\n",
        "        if aluno in sala1:\n",
        "            atividade_sala1.append(aluno)\n",
        "            #print(f'{nome_atividade}', atividade_sala1)\n",
        "        elif aluno in sala2:\n",
        "            atividade_sala2.append(aluno)\n",
        "            #print(f'{nome_atividade}', atividade_sala2)\n",
        "\n",
        "    print()\n",
        "    print(f'{nome_atividade} sala 1', atividade_sala1)\n",
        "    print(f'{nome_atividade} sala 2', atividade_sala2)\n",
        "    print('-' *40)\n",
        "\n"
      ],
      "metadata": {
        "id": "CRq6OCMgVLkP"
      },
      "execution_count": null,
      "outputs": []
    },
    {
      "cell_type": "code",
      "source": [
        "#c1 = set('banana')\n",
        "#c1\n",
        "conjunto_a = [1, 2, 3, 4, 5]\n",
        "conjunto_b = [4, 5, 6, 7, 8]\n",
        "\n",
        "#set(conjunto_a) | set(conjunto_b)\n",
        "#set(conjunto_a).union(set(conjunto_b))\n",
        "\n",
        "#set(conjunto_a).intersection(set(conjunto_b))\n",
        "\n",
        "#set(conjunto_a) & set(conjunto_b)\n",
        "\n",
        "#set(conjunto_a).difference(set(conjunto_b))\n",
        "\n",
        "#set(conjunto_a) - set(conjunto_b)\n",
        "\n",
        "#set(conjunto_a).symmetric_difference(set(conjunto_b))\n",
        "\n",
        "set(conjunto_a) ^ set(conjunto_b)"
      ],
      "metadata": {
        "colab": {
          "base_uri": "https://localhost:8080/"
        },
        "id": "QsKfilTXn0Yl",
        "outputId": "0a92dab5-e5f2-427d-8ea9-9bf2fbc8169f"
      },
      "execution_count": 20,
      "outputs": [
        {
          "output_type": "execute_result",
          "data": {
            "text/plain": [
              "{1, 2, 3, 6, 7, 8}"
            ]
          },
          "metadata": {},
          "execution_count": 20
        }
      ]
    },
    {
      "cell_type": "code",
      "source": [
        "sala1 = ['Fulano', 'Davi', 'Joao', 'Eli', 'Zac', 'Maria']\n",
        "sala2 = ['Maia', 'Joana', 'Erik', 'Carlos', 'Rony']\n",
        "\n",
        "aula_ingles = ['Fulano', 'Davi', 'Maria', 'Erik', 'Joana']\n",
        "aula_musica = ['Fulano', 'Maria', 'Erik']\n",
        "aula_danca = ['Joao', 'Zac', 'Maria', 'Joana']\n",
        "\n",
        "atividades = [(\"Ingles\", aula_ingles), (\"Musica\", aula_musica), (\"Dnaca\", aula_danca)]\n",
        "\n",
        "for nome_atividade, atividade in atividades:\n",
        "    atividade_sala1 = set(sala1) & set(atividade)\n",
        "    atividade_sala2 = set(sala2) & set(atividade)\n",
        "\n",
        "\n",
        "\n",
        "    print()\n",
        "    print(f'{nome_atividade} sala 1', atividade_sala1)\n",
        "    print(f'{nome_atividade} sala 2', atividade_sala2)\n",
        "    print('-' *40)"
      ],
      "metadata": {
        "colab": {
          "base_uri": "https://localhost:8080/"
        },
        "id": "iW8GMfrJW88b",
        "outputId": "ca0874c6-5ccc-436e-e7f6-2657f471fb58"
      },
      "execution_count": 22,
      "outputs": [
        {
          "output_type": "stream",
          "name": "stdout",
          "text": [
            "\n",
            "Ingles sala 1 {'Davi', 'Maria', 'Fulano'}\n",
            "Ingles sala 2 {'Erik', 'Joana'}\n",
            "----------------------------------------\n",
            "\n",
            "Musica sala 1 {'Maria', 'Fulano'}\n",
            "Musica sala 2 {'Erik'}\n",
            "----------------------------------------\n",
            "\n",
            "Dnaca sala 1 {'Maria', 'Zac', 'Joao'}\n",
            "Dnaca sala 2 {'Joana'}\n",
            "----------------------------------------\n"
          ]
        }
      ]
    },
    {
      "cell_type": "code",
      "source": [],
      "metadata": {
        "id": "Dvp5risBx41-"
      },
      "execution_count": null,
      "outputs": []
    }
  ]
}