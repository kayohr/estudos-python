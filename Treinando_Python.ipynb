{
  "nbformat": 4,
  "nbformat_minor": 0,
  "metadata": {
    "colab": {
      "provenance": [],
      "authorship_tag": "ABX9TyMyeDHZsav+561JB/SC93n0",
      "include_colab_link": true
    },
    "kernelspec": {
      "name": "python3",
      "display_name": "Python 3"
    },
    "language_info": {
      "name": "python"
    }
  },
  "cells": [
    {
      "cell_type": "markdown",
      "metadata": {
        "id": "view-in-github",
        "colab_type": "text"
      },
      "source": [
        "<a href=\"https://colab.research.google.com/github/kayohr/estudos-python/blob/main/Treinando_Python.ipynb\" target=\"_parent\"><img src=\"https://colab.research.google.com/assets/colab-badge.svg\" alt=\"Open In Colab\"/></a>"
      ]
    },
    {
      "cell_type": "code",
      "execution_count": null,
      "metadata": {
        "id": "opRbUbBA38lW"
      },
      "outputs": [],
      "source": [
        "#'capital inicial'.split()\n",
        "#'capital inicial'.startswith('c')\n",
        "'capital inicial'.startswith('C')\n",
        "#'capital inicial'.upper().startswith('B')\n",
        "#'capital inicial'.upper().endswith('B')\n",
        "#'capital inicial'.upper().endswith('l')\n",
        "#'capital inicial'.upper().endswith('L')"
      ]
    },
    {
      "cell_type": "code",
      "source": [
        "msg = 'Olá, %s você é o player n %d e você tem %.2f pontos'\n",
        "msg % (\"fulano\", 2, 978)"
      ],
      "metadata": {
        "id": "DI0-CvVVE7SH"
      },
      "execution_count": null,
      "outputs": []
    },
    {
      "cell_type": "code",
      "source": [
        "email_tmpl = \"\"\"\n",
        "Olá, %(nome)s\n",
        "\n",
        "Tem interesse em comprar %(produtos)s?\n",
        "\n",
        "Este produto é ótimo para resolver %(texto)s\n",
        "\n",
        "Clique aogra em %(link)s\n",
        "\n",
        "Apenas %(quantidade)d caixas disponiveis\n",
        "\n",
        "Preço promocional %(preco).2f cada!\n",
        "\"\"\"\n",
        "\n",
        "clientes = [\"Joao\", \"Maria\", \"Fulano\"]\n",
        "\n",
        "for cliente in clientes:\n",
        "    print(email_tmpl % {\"nome\": cliente, \"produtos\": \"caneta\", \"texto\": \"Escreve muito\",\n",
        "                        \"link\":\"www:lojaboa.com.br\", \"quantidade\": 10,\n",
        "                        \"preco\": 20.5}\n",
        "          )"
      ],
      "metadata": {
        "id": "OQfMfOZVSWAr"
      },
      "execution_count": null,
      "outputs": []
    },
    {
      "cell_type": "code",
      "source": [
        "#msg = 'Olá, {} você é o player n {} e você tem {} pontos'\n",
        "\n",
        "msg = 'Olá, {} você é o player n {:03d} e você tem {:.3f} pontos'\n",
        "\n",
        "msg.format(\"fulano\", 2, 978)"
      ],
      "metadata": {
        "id": "58yxRTy9F0O6"
      },
      "execution_count": null,
      "outputs": []
    },
    {
      "cell_type": "code",
      "source": [
        "#\"{:#^11}\".format(\"valor\")\n",
        "\n",
        "#\"{:-^10.4f}\".format(450.500)\n",
        "\n",
        "\n",
        "msg = 'Olá, {nome} você é o player n {num:03d} e você tem {pont:.3f} pontos'\n",
        "\n",
        "msg.format(nome=\"fulano\",num= 2,pont= 978)"
      ],
      "metadata": {
        "colab": {
          "base_uri": "https://localhost:8080/",
          "height": 36
        },
        "id": "wmIeYyfYHCHq",
        "outputId": "f8a26fe8-b84c-4cfd-fcef-8cd8e3232c48"
      },
      "execution_count": null,
      "outputs": [
        {
          "output_type": "execute_result",
          "data": {
            "text/plain": [
              "'Olá, fulano você é o player n 002 e você tem 978.000 pontos'"
            ],
            "application/vnd.google.colaboratory.intrinsic+json": {
              "type": "string"
            }
          },
          "metadata": {},
          "execution_count": 2
        }
      ]
    },
    {
      "cell_type": "code",
      "source": [
        "#numeros = list(range(1,11))\n",
        "\n",
        "#for numero in numeros:\n",
        "#    print(\"Tabuada do:\", numero)\n",
        "#    for outro_numero in numeros:\n",
        "#      print(numero * outro_numero)\n",
        "#    print(\"--------\")\n",
        "\n",
        "template = \"\"\"\n",
        "---Tabuada do 2---\n",
        "\n",
        "    {operacoes}\n",
        "##################\n",
        "\"\"\"\n",
        "\n",
        "numeros = list(range(1,11))\n",
        "\n",
        "#for n1 in numeros:\n",
        "#    operacoes = \"\"\n",
        "#    for n2 in numeros:\n",
        "        #resultado = n1 * n2\n",
        "        #operacao = f\"{n1} x {n2} = {n1 * n2}\"\n",
        "        #operacoes = opercaoes + bloco\n",
        "#        operacoes += f\"{n1} x {n2} = {n1 * n2}\"\n",
        "#        print(template.format(operacoes=operacoes))\n",
        "\n",
        "\n",
        "for n1 in numeros:\n",
        "    print(\"{:-^18}\".format(f\"Tabuada de {n1}\"))\n",
        "    print()\n",
        "    for n2 in numeros:\n",
        "        resultado = n1 * n2\n",
        "        print(\"{:^18}\".format(f\"{n1} x {n2} = {resultado}\"))\n",
        "    print(\"#\" * 18)\n",
        "\n",
        "\n"
      ],
      "metadata": {
        "id": "RVfl_q_XHu7w"
      },
      "execution_count": null,
      "outputs": []
    },
    {
      "cell_type": "code",
      "source": [
        "#resultado = []\n",
        "#for x in range(9):\n",
        "#  resultado.append(x * 4)\n",
        "#resultado\n",
        "#24 in resultado\n",
        "\n",
        "sala1 = ['Fulano', 'Davi', 'Joao', 'Eli', 'Zac', 'Maria']\n",
        "sala2 = ['Maia', 'Joana', 'Erik', 'Carlos', 'Rony']\n",
        "\n",
        "aula_ingles = ['Fulano', 'Davi', 'Maria', 'Erik', 'Joana']\n",
        "aula_musica = ['Fulano', 'Maria', 'Erik']\n",
        "auala_danca = ['Joao', 'Zac', 'Maria', 'Joana']\n",
        "\n",
        "aula_ingles_sala1 = []\n",
        "aula_ingles_sala2 = []\n",
        "\n",
        "for aluno in aula_ingles:\n",
        "  if aluno in sala1:\n",
        "    aula_ingles_sala1.append(aluno)\n",
        "    print('Ingles sala1 chamada', aula_ingles_sala1)\n",
        "  elif aluno in sala2:\n",
        "    aula_ingles_sala2.append(aluno)\n",
        "    print('Ingles sala2 chamada', aula_ingles_sala2)\n",
        "\n",
        "print()\n",
        "print('Ingles sala1', aula_ingles_sala1)\n",
        "print('Ingles sala2', aula_ingles_sala2)"
      ],
      "metadata": {
        "id": "KkAF1jn7fRQK"
      },
      "execution_count": null,
      "outputs": []
    },
    {
      "cell_type": "code",
      "source": [
        "sala1 = ['Fulano', 'Davi', 'Joao', 'Eli', 'Zac', 'Maria']\n",
        "sala2 = ['Maia', 'Joana', 'Erik', 'Carlos', 'Rony']\n",
        "\n",
        "aula_ingles = ['Fulano', 'Davi', 'Maria', 'Erik', 'Joana']\n",
        "aula_musica = ['Fulano', 'Maria', 'Erik']\n",
        "aula_danca = ['Joao', 'Zac', 'Maria', 'Joana']\n",
        "\n",
        "atividades = [(\"Ingles\", aula_ingles), (\"Musica\", aula_musica), (\"Dnaca\", aula_danca)]\n",
        "\n",
        "\n",
        "for nome_atividade, atividade in atividades:\n",
        "    atividade_sala1 = []\n",
        "    atividade_sala2 = []\n",
        "\n",
        "    for aluno in atividade:\n",
        "        if aluno in sala1:\n",
        "            atividade_sala1.append(aluno)\n",
        "            #print(f'{nome_atividade}', atividade_sala1)\n",
        "        elif aluno in sala2:\n",
        "            atividade_sala2.append(aluno)\n",
        "            #print(f'{nome_atividade}', atividade_sala2)\n",
        "\n",
        "    print()\n",
        "    print(f'{nome_atividade} sala 1', atividade_sala1)\n",
        "    print(f'{nome_atividade} sala 2', atividade_sala2)\n",
        "    print('-' *40)\n",
        "\n"
      ],
      "metadata": {
        "id": "CRq6OCMgVLkP"
      },
      "execution_count": null,
      "outputs": []
    },
    {
      "cell_type": "code",
      "source": [
        "#c1 = set('banana')\n",
        "#c1\n",
        "conjunto_a = [1, 2, 3, 4, 5]\n",
        "conjunto_b = [4, 5, 6, 7, 8]\n",
        "\n",
        "#set(conjunto_a) | set(conjunto_b)\n",
        "#set(conjunto_a).union(set(conjunto_b))\n",
        "\n",
        "#set(conjunto_a).intersection(set(conjunto_b))\n",
        "\n",
        "#set(conjunto_a) & set(conjunto_b)\n",
        "\n",
        "#set(conjunto_a).difference(set(conjunto_b))\n",
        "\n",
        "#set(conjunto_a) - set(conjunto_b)\n",
        "\n",
        "#set(conjunto_a).symmetric_difference(set(conjunto_b))\n",
        "\n",
        "set(conjunto_a) ^ set(conjunto_b)"
      ],
      "metadata": {
        "colab": {
          "base_uri": "https://localhost:8080/"
        },
        "id": "QsKfilTXn0Yl",
        "outputId": "0a92dab5-e5f2-427d-8ea9-9bf2fbc8169f"
      },
      "execution_count": null,
      "outputs": [
        {
          "output_type": "execute_result",
          "data": {
            "text/plain": [
              "{1, 2, 3, 6, 7, 8}"
            ]
          },
          "metadata": {},
          "execution_count": 20
        }
      ]
    },
    {
      "cell_type": "code",
      "source": [
        "sala1 = ['Fulano', 'Davi', 'Joao', 'Eli', 'Zac', 'Maria']\n",
        "sala2 = ['Maia', 'Joana', 'Erik', 'Carlos', 'Rony']\n",
        "\n",
        "aula_ingles = ['Fulano', 'Davi', 'Maria', 'Erik', 'Joana']\n",
        "aula_musica = ['Fulano', 'Maria', 'Erik']\n",
        "aula_danca = ['Joao', 'Zac', 'Maria', 'Joana']\n",
        "\n",
        "atividades = [(\"Ingles\", aula_ingles), (\"Musica\", aula_musica), (\"Dnaca\", aula_danca)]\n",
        "\n",
        "for nome_atividade, atividade in atividades:\n",
        "    atividade_sala1 = set(sala1) & set(atividade)\n",
        "    atividade_sala2 = set(sala2) & set(atividade)\n",
        "\n",
        "\n",
        "\n",
        "    print()\n",
        "    print(f'{nome_atividade} sala 1', atividade_sala1)\n",
        "    print(f'{nome_atividade} sala 2', atividade_sala2)\n",
        "    print('-' *40)"
      ],
      "metadata": {
        "id": "iW8GMfrJW88b"
      },
      "execution_count": null,
      "outputs": []
    },
    {
      "cell_type": "code",
      "source": [
        "#Cod sem dicionario\n",
        "#parte 1\n",
        "produto_nome = \"Caneta\"\n",
        "produto_cor1 = \"azul\"\n",
        "produto_cor2 = \"branco\"\n",
        "produto_preco = 3.23\n",
        "produto_dimensao_altura = 12.1\n",
        "produto_dimensao_largura = 0.8\n",
        "produto_em_estoque = True\n",
        "produto_codigo = 45678\n",
        "produto_codebar = None\n",
        "\n",
        "#parte 2\n",
        "compra = (\"Bruno\", produto_nome, 3)\n",
        "total_compra = compra[2] * produto_preco\n",
        "\n",
        "#parte 3\n",
        "print(\n",
        "    f\"O cliente {compra[0]} comprou {compra[1]}\"\n",
        "    f\" e pagou o total de {total_compra}\"\n",
        ")"
      ],
      "metadata": {
        "id": "Dvp5risBx41-",
        "colab": {
          "base_uri": "https://localhost:8080/"
        },
        "outputId": "135bf6b9-e078-4174-8328-21b19eeeb020"
      },
      "execution_count": null,
      "outputs": [
        {
          "output_type": "stream",
          "name": "stdout",
          "text": [
            "O cliente Bruno comprou Caneta e pagou o total de 9.69\n"
          ]
        }
      ]
    },
    {
      "cell_type": "code",
      "source": [
        "cliente = {'nome': 'Fulano', 'cod': 123}\n",
        "extra = {'pais':'Brasil'}\n",
        "\n",
        "final = {**cliente, **extra}\n",
        "\n",
        "#for chave in final:\n",
        "#  print(chave, '->', final[chave])\n",
        "\n",
        "for chave, valor in final.items():\n",
        "  print(chave, '->', valor)\n",
        "\n",
        "final.items()"
      ],
      "metadata": {
        "id": "Q7IJQ7t0_Slr"
      },
      "execution_count": null,
      "outputs": []
    },
    {
      "cell_type": "code",
      "source": [
        "#Cod com Dicionario\n",
        "from pprint import pprint\n",
        "\n",
        "#parte 1\n",
        "produto = {\n",
        "    'nome':'Caneta',\n",
        "    'cores':['azul','branco'],\n",
        "    'preco':3.23,\n",
        "    'dimensao': {\n",
        "        'altura':12.1,\n",
        "        'largura':0.8\n",
        "    },\n",
        "    'estoque': True,\n",
        "    'codigo':45678,\n",
        "    'codebar':None\n",
        "}\n",
        "\n",
        "#parte 2\n",
        "cliente = {\n",
        "    'nome':'Fulano'\n",
        "}\n",
        "\n",
        "compra = {\n",
        "    'cliente': cliente,\n",
        "    'produto': produto,\n",
        "    'quantidade': 3\n",
        "}\n",
        "#sem pprint\n",
        "#print(compra)\n",
        "\n",
        "#print()\n",
        "\n",
        "#Com pprint\n",
        "#pprint(compra)\n",
        "\n",
        "#parte 3\n",
        "total_compra = compra['quantidade'] * compra[\"produto\"][\"preco\"]\n",
        "\n",
        "print(\n",
        "     f\"O cliente {compra['cliente']['nome']}\"\n",
        "     f\" comprou {compra['quantidade']} unidades de {compra['produto']['nome']}\"\n",
        "     f\" e pagou o total de {total_compra}\"\n",
        ")"
      ],
      "metadata": {
        "id": "2RlxyJWXBwMT"
      },
      "execution_count": null,
      "outputs": []
    },
    {
      "cell_type": "code",
      "source": [
        "import os\n",
        "\n",
        "current_language = os.getenv(\"LANG\", \"en_US\")[:5]\n",
        "\n",
        "# Complexidade O(n)\n",
        "if current_language == \"pt_BR\":\n",
        "  msg = \"Olá, Mundo!\"\n",
        "elif current_language == \"it_IT\":\n",
        "  msg = \"Ciao, Mondo!\"\n",
        "elif current_language == \"es_SP\":\n",
        "  msg = \"Hola, Mundo!\"\n",
        "elif current_language == \"fr_FR\":\n",
        "  msg = \"Bonjour, Monde!\"\n",
        "\n",
        "\n",
        "#Refatorando\n",
        "\n",
        "msg = {\n",
        "    \"pt_BR\": \"Olá, Mundo!\",\n",
        "    \"it_IT\": \"Ciao, Mondo!\",\n",
        "    \"es_SP\": \"Hola, Mundo!\",\n",
        "    \"fr_FR\": \"Bonjour, Monde!\",\n",
        "}\n",
        "\n",
        "print(msg[current_language])\n"
      ],
      "metadata": {
        "id": "tG5A4T9tAyAZ"
      },
      "execution_count": null,
      "outputs": []
    },
    {
      "cell_type": "code",
      "source": [
        "from pprint import pprint\n",
        "\n",
        "sala1 = [\"Erik\", \"Maia\", \"Gustavo\", \"Manuel\", \"Sofia\", \"Joana\"]\n",
        "sala2 = [\"Joao\", \"Antonio\", \"Carlos\", \"Maria\", \"Isolda\"]\n",
        "\n",
        "aula_ingles = [\"Erik\", \"Maia\", \"Joana\", \"Carlos\", \"Antonio\"]\n",
        "aula_musica = [\"Erik\", \"Carlos\", \"Maria\"]\n",
        "aula_danca = [\"Gustavo\", \"Sofia\", \"Joana\", \"Antonio\"]\n",
        "\n",
        "atividades = {\n",
        "    \"Inglês\": aula_ingles,\n",
        "    \"Música\": aula_musica,\n",
        "    \"Dança\": aula_danca,\n",
        "}\n",
        "\n",
        "# Dicionário para armazenar os alunos em cada atividade por sala\n",
        "alunos_por_sala = {atividade: {\"Sala1\": [], \"Sala2\": []} for atividade in atividades}\n",
        "\n",
        "pprint(alunos_por_sala)\n",
        "\n",
        "# Preencher o dicionário com os alunos em cada sala para cada atividade\n",
        "for nome_atividade, atividade in atividades.items():\n",
        "    alunos_sala1 = list(set(sala1) & set(atividade))\n",
        "    alunos_sala2 = list(set(sala2) & set(atividade))\n",
        "    alunos_por_sala[nome_atividade][\"Sala1\"] = alunos_sala1\n",
        "    alunos_por_sala[nome_atividade][\"Sala2\"] = alunos_sala2\n",
        "\n",
        "pprint(alunos_sala1)\n",
        "pprint(alunos_sala2)\n",
        "\n",
        "# Listar alunos em cada atividade por sala\n",
        "for nome_atividade, salas in alunos_por_sala.items():\n",
        "    print(f\"Alunos da atividade {nome_atividade}\\n\")\n",
        "    print(\"-\" * 40)\n",
        "    print(\"Sala1 \", salas[\"Sala1\"])\n",
        "    print(\"Sala2 \", salas[\"Sala2\"])\n",
        "    print()\n",
        "    print(\"#\" * 40)"
      ],
      "metadata": {
        "id": "05sr-lKjBMm9"
      },
      "execution_count": null,
      "outputs": []
    },
    {
      "cell_type": "code",
      "source": [],
      "metadata": {
        "id": "Z9elvDwtB4sz"
      },
      "execution_count": null,
      "outputs": []
    }
  ]
}