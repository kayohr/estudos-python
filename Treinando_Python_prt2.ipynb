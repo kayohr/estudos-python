{
  "nbformat": 4,
  "nbformat_minor": 0,
  "metadata": {
    "colab": {
      "provenance": [],
      "authorship_tag": "ABX9TyPUSb6hp33NzRb2kTfyDffv",
      "include_colab_link": true
    },
    "kernelspec": {
      "name": "python3",
      "display_name": "Python 3"
    },
    "language_info": {
      "name": "python"
    }
  },
  "cells": [
    {
      "cell_type": "markdown",
      "metadata": {
        "id": "view-in-github",
        "colab_type": "text"
      },
      "source": [
        "<a href=\"https://colab.research.google.com/github/kayohr/estudos-python/blob/main/Treinando_Python_prt2.ipynb\" target=\"_parent\"><img src=\"https://colab.research.google.com/assets/colab-badge.svg\" alt=\"Open In Colab\"/></a>"
      ]
    },
    {
      "cell_type": "code",
      "execution_count": null,
      "metadata": {
        "id": "D9PfsqJrLfn8"
      },
      "outputs": [],
      "source": [
        "nome = input(\"Digite o nome:\").strip()\n",
        "nome"
      ]
    },
    {
      "cell_type": "code",
      "source": [
        "def calculate(operation, n1, n2):\n",
        "    valid_operations = (\"sum\", \"sub\", \"mul\", \"div\")\n",
        "    if operation not in valid_operations:\n",
        "        print(\"Operação inválida\")\n",
        "        print(valid_operations)\n",
        "        return None\n",
        "\n",
        "    if not (n1.replace(\".\", \"\").isdigit() and n2.replace(\".\", \"\").isdigit()):\n",
        "        print(\"Os números fornecidos não são válidos\")\n",
        "        return None\n",
        "\n",
        "    n1 = float(n1)\n",
        "    n2 = float(n2)\n",
        "\n",
        "    if operation == \"sum\":\n",
        "        return n1 + n2\n",
        "    elif operation == \"sub\":\n",
        "        return n1 - n2\n",
        "    elif operation == \"mul\":\n",
        "        return n1 * n2\n",
        "    elif operation == \"div\":\n",
        "        if n2 == 0:\n",
        "            print(\"Erro: Divisão por zero\")\n",
        "            return None\n",
        "        return n1 / n2\n",
        "\n",
        "if __name__ == \"__main__\":\n",
        "    if len(sys.argv) == 4:\n",
        "        operation = sys.argv[1]\n",
        "        n1 = sys.argv[2]\n",
        "        n2 = sys.argv[3]\n",
        "    else:\n",
        "        operation = input(\"Operação: \")\n",
        "        n1 = input(\"n1: \")\n",
        "        n2 = input(\"n2: \")\n",
        "\n",
        "    result = calculate(operation, n1, n2)\n",
        "    if result is not None:\n",
        "        print(f\"O resultado é {result}\")\n"
      ],
      "metadata": {
        "id": "-6ltJTNbLlYA"
      },
      "execution_count": null,
      "outputs": []
    },
    {
      "cell_type": "code",
      "source": [
        "#Tipos de Logging\n",
        "\n",
        "import logging\n",
        "\n",
        "logging.debug(\"Mensagem para o dev\")\n",
        "logging.info(\"Mensagem geral para usuarios\")\n",
        "logging.warning(\"Aviso que nao causa erro\")\n",
        "logging.error(\"Erro que afeta uma unica execucao\")\n",
        "logging.critical(\"Erro geral ex: banco de dados sumiu\")"
      ],
      "metadata": {
        "colab": {
          "base_uri": "https://localhost:8080/"
        },
        "id": "Y1Xb502sN9F_",
        "outputId": "ed44cd55-f94a-46d7-dc6c-fb9712b5bba5"
      },
      "execution_count": null,
      "outputs": [
        {
          "output_type": "stream",
          "name": "stderr",
          "text": [
            "WARNING:root:Aviso que nao causa erro\n",
            "ERROR:root:Erro que afeta uma unica execucao\n",
            "CRITICAL:root:Erro geral ex: banco de dados sumiu\n"
          ]
        }
      ]
    },
    {
      "cell_type": "code",
      "source": [
        "#Forçar outros logging\n",
        "import logging\n",
        "\n",
        "#Minha Instancia\n",
        "log = logging.Logger('teste', logging.DEBUG) #em vez de logging.DEBUG pode ser 10\n",
        "\n",
        "#level\n",
        "ch = logging.StreamHandler()\n",
        "ch.setLevel(logging.DEBUG)\n",
        "#formatacao\n",
        "fmt = logging.Formatter(\n",
        "    '%(asctime)s  %(name)s  %(levelname)s  %(lineno)d  %(filename)s  %(message)s'\n",
        ")\n",
        "ch.setFormatter(fmt)\n",
        "#destino\n",
        "log.addHandler(ch)\n",
        "\n",
        "log.debug(\"Mensagem para o dev\")\n",
        "log.info(\"Mensagem geral para usuarios\")\n",
        "log.warning(\"Aviso que nao causa erro\")\n",
        "log.error(\"Erro que afeta uma unica execucao\")\n",
        "log.critical(\"Erro geral ex: banco de dados sumiu\")"
      ],
      "metadata": {
        "colab": {
          "base_uri": "https://localhost:8080/"
        },
        "id": "3Pgn_qdDrAgn",
        "outputId": "5a1ca7f9-677c-41df-fbe0-d85c29c78bf3"
      },
      "execution_count": null,
      "outputs": [
        {
          "output_type": "stream",
          "name": "stderr",
          "text": [
            "2024-04-23 16:14:47,657  teste  DEBUG  18  <ipython-input-4-b7c3cdf4a074>  Mensagem para o dev\n",
            "2024-04-23 16:14:47,660  teste  INFO  19  <ipython-input-4-b7c3cdf4a074>  Mensagem geral para usuarios\n",
            "2024-04-23 16:14:47,662  teste  WARNING  20  <ipython-input-4-b7c3cdf4a074>  Aviso que nao causa erro\n",
            "2024-04-23 16:14:47,664  teste  ERROR  21  <ipython-input-4-b7c3cdf4a074>  Erro que afeta uma unica execucao\n",
            "2024-04-23 16:14:47,666  teste  CRITICAL  22  <ipython-input-4-b7c3cdf4a074>  Erro geral ex: banco de dados sumiu\n"
          ]
        }
      ]
    },
    {
      "cell_type": "code",
      "source": [
        "import os\n",
        "import logging\n",
        "from logging import handlers\n",
        "\n",
        "log_level = os.getenv('LOGO_LEVEL', 'WARNING')\n",
        "log = logging.Logger('teste', log_level)\n",
        "\n",
        "ch = logging.StreamHandler()\n",
        "ch.setLevel(log_level)\n",
        "\"\"\"\n",
        "fh = handlers.RotatingFileHandler(\n",
        "    'meulog.log',\n",
        "    maxBytes= 100, #10**6\n",
        "    backpCount=10,\n",
        "    )\n",
        "#fh.setLevel(log_level)\n",
        "fmt = logging.Formatter(\n",
        "    '%(asctime)s  %(name)s  %(levelname)s  %(lineno)d  %(filename)s  %(message)s'\n",
        ")\n",
        "\"\"\"\n",
        "ch.setFormatter(fmt)\n",
        "log.addHandler(ch)\n",
        "#fh.setFormatter(fmt)\n",
        "#log.addHandler(fh)\n",
        "\n",
        "\n",
        "try:\n",
        "  1 / 0\n",
        "except ZeroDivisionError as e:\n",
        "  log.error('Deu erro %s', str(e))"
      ],
      "metadata": {
        "colab": {
          "base_uri": "https://localhost:8080/"
        },
        "id": "SK0DQE0k0_XN",
        "outputId": "23bc6b88-7f2d-4560-94b4-901034595ae4"
      },
      "execution_count": null,
      "outputs": [
        {
          "output_type": "stream",
          "name": "stderr",
          "text": [
            "2024-04-23 16:41:44,078  teste  ERROR  18  <ipython-input-5-fcce0848916b>  Deu erro division by zero\n"
          ]
        }
      ]
    },
    {
      "cell_type": "code",
      "source": [
        "nome = \"\"\n",
        "print(f\"Olá {nome or 'pessoa'}, boas vindas!\")"
      ],
      "metadata": {
        "id": "zSVGH-fD1au0"
      },
      "execution_count": null,
      "outputs": []
    },
    {
      "cell_type": "code",
      "source": [
        "\"\"\"\n",
        "numbers1 = range(1, 6)\n",
        "numbers2 = range(1, 700, 200)\n",
        "\n",
        "for number in numbers1:\n",
        "  print(number)\n",
        "\n",
        "for number in numbers2:\n",
        "  print(number)\n",
        "\"\"\"\n",
        "numbers = range(1,11)\n",
        "\n",
        "for number in numbers:\n",
        "  par = number %  2 == 0\n",
        "  if par:\n",
        "    print(number)\n",
        "  else:\n",
        "    continue\n",
        "  print(f\"mais cod com {number}\")\n"
      ],
      "metadata": {
        "id": "kKju0TKifpoO"
      },
      "execution_count": null,
      "outputs": []
    },
    {
      "cell_type": "code",
      "source": [
        "for i in range(1, 11):\n",
        "    if i == 3:\n",
        "        continue\n",
        "    #elif i == 11:\n",
        "    elif i == 7:\n",
        "        break\n",
        "    elif i == 9:\n",
        "        pass\n",
        "    else:\n",
        "        print(i)"
      ],
      "metadata": {
        "id": "8AUMIIe2MJO_"
      },
      "execution_count": null,
      "outputs": []
    },
    {
      "cell_type": "code",
      "source": [
        "#Só para mostrar o que tem dentro\n",
        "with open(\"post.txt\", \"r\") as arquivo:\n",
        "    conteudo = arquivo.read()\n",
        "    print(conteudo)"
      ],
      "metadata": {
        "colab": {
          "base_uri": "https://localhost:8080/"
        },
        "id": "MTlVm-MhXTk4",
        "outputId": "7cf46e20-df3f-4fc4-b60e-2b992fb76951"
      },
      "execution_count": null,
      "outputs": [
        {
          "output_type": "stream",
          "name": "stdout",
          "text": [
            "title: Meu post\n",
            "tags:tech, geral\n",
            "\n",
            "date:2022-02-10\n",
            "published:1\n",
            "\n",
            "---\n",
            "\n",
            "Este é o meu post\n",
            "Aqui tem texto e conteudo\n",
            "etc. etc. etc.\n"
          ]
        }
      ]
    },
    {
      "cell_type": "code",
      "source": [
        "#poderia usr o conteudo, mas vou usar como se tivesse abrindo diretamente no for\n",
        "\"\"\"\n",
        "dados = {}\n",
        "for line in open(\"post.txt\"):\n",
        "  if line == \"---\\n\":\n",
        "    break\n",
        "  key, valor = line.split(\":\")\n",
        "  dados[key] = valor.strip()\n",
        "print(dados)\n",
        "\n",
        "\"\"\"\n",
        "dados = {}\n",
        "for line in open(\"post.txt\"):\n",
        "  if line.strip() == \"---\":\n",
        "    break\n",
        "  elif \":\" not in line:\n",
        "    continue\n",
        "  key, valor = line.split(\":\", 1)\n",
        "  dados[key.strip()] = valor.strip()\n",
        "print(dados)\n"
      ],
      "metadata": {
        "colab": {
          "base_uri": "https://localhost:8080/"
        },
        "id": "JXQbq6AEXhhX",
        "outputId": "dffe04ae-6472-4f64-a9e1-20ddc2856dc2"
      },
      "execution_count": null,
      "outputs": [
        {
          "output_type": "stream",
          "name": "stdout",
          "text": [
            "{'title': 'Meu post', 'tags': 'tech, geral', 'date': '2022-02-10', 'published': '1'}\n"
          ]
        }
      ]
    },
    {
      "cell_type": "code",
      "source": [
        "#List Comprehesion\n",
        "original = [1 , 2 ,3]\n",
        "dobrada = [n*2 for n in original]\n",
        "print(dobrada)\n",
        "\n",
        "#dict comprehesion\n",
        "#dados = [line.strip() for line in open(\"post.txt\") if \":\" in line ]\n",
        "print(dados)\n",
        "\n",
        "#Transformando em dicionario\n",
        "dados = {\n",
        "    line.split(\":\")[0]: line.split(\":\")[1].strip()\n",
        "    for line in open(\"post.txt\")\n",
        "    if \":\" in line\n",
        "    }\n",
        "#dados = {key.strip(): valor.strip() for line in open(\"post.txt\") if \":\" in line for key, valor in [line.split(\":\", 1)]}\n",
        "#print(dados)"
      ],
      "metadata": {
        "colab": {
          "base_uri": "https://localhost:8080/"
        },
        "id": "DodCM9wEYCkP",
        "outputId": "78c5dee3-028e-4f69-88c9-b663dc03e285"
      },
      "execution_count": null,
      "outputs": [
        {
          "output_type": "stream",
          "name": "stdout",
          "text": [
            "[2, 4, 6]\n",
            "['title: Meu post', 'tags:tech, geral', 'date:2022-02-10', 'published:1']\n"
          ]
        }
      ]
    },
    {
      "cell_type": "code",
      "source": [
        "def main(numeros, objetivo):\n",
        "    indice_map = {}\n",
        "    for i, num in enumerate(numeros):\n",
        "        complemento = objetivo - num\n",
        "        if complemento in indice_map:\n",
        "            return [indice_map[complemento], i]\n",
        "        indice_map[num] = i\n",
        "\n",
        "# Exemplos de uso:\n",
        "numeros1 = [2, 7, 11, 15]\n",
        "objetivo1 = 9\n",
        "print(main(numeros1, objetivo1))\n",
        "\n",
        "numeros2 = [3, 2, 4]\n",
        "objetivo2 = 6\n",
        "print(main(numeros2, objetivo2))\n",
        "\n",
        "numeros3 = [3, 3]\n",
        "objetivo3 = 6\n",
        "print(main(numeros3, objetivo3))"
      ],
      "metadata": {
        "id": "Mijrb5jwf-PC",
        "colab": {
          "base_uri": "https://localhost:8080/"
        },
        "outputId": "81349811-d6b1-44cd-adc8-8443d604bb51"
      },
      "execution_count": null,
      "outputs": [
        {
          "output_type": "stream",
          "name": "stdout",
          "text": [
            "[0, 1]\n",
            "[1, 2]\n",
            "[0, 1]\n"
          ]
        }
      ]
    },
    {
      "cell_type": "code",
      "source": [
        "def main(pesos, capacidade):\n",
        "    viagens = 0\n",
        "    peso_atual = 0\n",
        "\n",
        "    for peso in pesos:\n",
        "        peso_atual += peso\n",
        "        if peso_atual > capacidade:\n",
        "            viagens += 1\n",
        "            peso_atual = peso\n",
        "\n",
        "    return viagens + 1\n",
        "\n",
        "pesos1 = [1.01, 1.99, 2.5, 1.5, 1.01]\n",
        "print(main(pesos1, 3.0))\n",
        "\n",
        "pesos2 = [1.01, 1.01, 1.01, 1.4]\n",
        "print(main(pesos2, 3.0))\n",
        "\n",
        "pesos3 = [1.01, 1.993, 1.32, 1.7, 1.8]\n",
        "print(main(pesos3, 3.0))\n"
      ],
      "metadata": {
        "colab": {
          "base_uri": "https://localhost:8080/"
        },
        "id": "Vpj7b8EKDR3M",
        "outputId": "5630ddcd-d605-4496-e0e8-499f32cc67bc"
      },
      "execution_count": null,
      "outputs": [
        {
          "output_type": "stream",
          "name": "stdout",
          "text": [
            "3\n",
            "2\n",
            "5\n"
          ]
        }
      ]
    },
    {
      "cell_type": "code",
      "source": [
        "from collections import Counter\n",
        "\n",
        "def main(palavra):\n",
        "    contagem = Counter(palavra)\n",
        "    impares = sum(1 for freq in contagem.values() if freq % 2 != 0)\n",
        "    return impares <= 1 or len(palavra) == 0\n",
        "\n",
        "print(main(\"abbac\"))\n",
        "print(main(\"abba\"))\n",
        "print(main(\"abbacd\"))"
      ],
      "metadata": {
        "id": "mo7JQ4jfGrtl"
      },
      "execution_count": null,
      "outputs": []
    },
    {
      "cell_type": "code",
      "source": [],
      "metadata": {
        "id": "IeLAICEvIqpl"
      },
      "execution_count": null,
      "outputs": []
    },
    {
      "cell_type": "code",
      "source": [
        "\n"
      ],
      "metadata": {
        "id": "J9Xqdp3uH12N"
      },
      "execution_count": null,
      "outputs": []
    },
    {
      "cell_type": "code",
      "source": [
        "def main(palavra):\n",
        "    pilha = []\n",
        "    contador = 0\n",
        "\n",
        "    for char in palavra:\n",
        "        if char == '(':\n",
        "            pilha.append('(')\n",
        "        else:\n",
        "            if len(pilha) == 0:\n",
        "                contador += 1\n",
        "            else:\n",
        "                pilha.pop()\n",
        "\n",
        "    return contador + len(pilha)\n",
        "\n",
        "print(main(\"()))\"))\n",
        "print(main(\"()()\"))\n",
        "print(main(\"())(\"))\n"
      ],
      "metadata": {
        "id": "7FMMA4TGJMzd"
      },
      "execution_count": null,
      "outputs": []
    },
    {
      "cell_type": "code",
      "source": [
        "def main(n):\n",
        "    resultado = []\n",
        "    for i in range(1, n + 1):\n",
        "        if i % 3 == 0 and i % 5 == 0:\n",
        "            resultado.append(\"DesenvolvimentoSoftware\")\n",
        "        elif i % 3 == 0:\n",
        "            resultado.append(\"Desenvolvimento\")\n",
        "        elif i % 5 == 0:\n",
        "            resultado.append(\"Software\")\n",
        "        else:\n",
        "            resultado.append(str(i))\n",
        "    return \", \".join(resultado)\n",
        "\n",
        "print(main(1))\n",
        "print(main(5))\n",
        "print(main(15))\n"
      ],
      "metadata": {
        "id": "rHIzLR_4IS9N"
      },
      "execution_count": null,
      "outputs": []
    },
    {
      "cell_type": "code",
      "source": [
        "def main(a, b):\n",
        "    return a + b\n",
        "\n",
        "print(main(5, 3))\n",
        "print(main(2, 3))\n",
        "print(main(10, 3))\n"
      ],
      "metadata": {
        "colab": {
          "base_uri": "https://localhost:8080/"
        },
        "id": "HLgVuDjsIrRs",
        "outputId": "bd68b10b-8fcd-42db-dc9b-3cf4ba47097f"
      },
      "execution_count": null,
      "outputs": [
        {
          "output_type": "stream",
          "name": "stdout",
          "text": [
            "8\n",
            "5\n",
            "13\n"
          ]
        }
      ]
    },
    {
      "cell_type": "code",
      "source": [],
      "metadata": {
        "id": "O3HV_ixNJ7yF"
      },
      "execution_count": null,
      "outputs": []
    },
    {
      "cell_type": "code",
      "source": [
        "def main(n):\n",
        "    if n == 1:\n",
        "        return 1\n",
        "    else:\n",
        "        k = 1\n",
        "        while 2 ** k <= n:\n",
        "            k += 1\n",
        "        k -= 1\n",
        "        return 2 * (n - 2 ** k) + 1\n",
        "\n",
        "print(main(5))\n",
        "print(main(10))\n",
        "print(main(3))"
      ],
      "metadata": {
        "colab": {
          "base_uri": "https://localhost:8080/"
        },
        "id": "fIy-bfcGKaYV",
        "outputId": "03b0dcae-aafe-4e39-9dba-564bd6230482"
      },
      "execution_count": null,
      "outputs": [
        {
          "output_type": "stream",
          "name": "stdout",
          "text": [
            "3\n",
            "5\n",
            "3\n"
          ]
        }
      ]
    },
    {
      "cell_type": "code",
      "source": [
        "par = []\n",
        "\n",
        "for number in range(1, 201):\n",
        "    if number % 2 == 0:\n",
        "        par.append(number)\n",
        "    #print(par) #mostrar a interação até 200\n",
        "print(par)\n",
        "\n",
        "\"\"\"\n",
        "  for number in range(1, 201):\n",
        "  if number % 2 != 0:\n",
        "    continue\n",
        "  print(number)\n",
        "  \"\"\""
      ],
      "metadata": {
        "id": "LX40F5hrvaI7"
      },
      "execution_count": null,
      "outputs": []
    },
    {
      "cell_type": "code",
      "source": [
        "#Sem txt\n",
        "\n",
        "quartos = {\n",
        "    1: {\"nome\": \"Suite Master\", \"preço\": 500},\n",
        "    2: {\"nome\": \"Quarto Família\", \"preço\": 200},\n",
        "    3: {\"nome\": \"Quarto Single\", \"preço\": 100},\n",
        "    4: {\"nome\": \"Quarto Simples\", \"preço\": 50}\n",
        "}\n",
        "\n",
        "reservas = [\n",
        "    {\"cliente\": \"Fulano\", \"quarto\": 3, \"dias\": 12}\n",
        "]\n",
        "\n",
        "ocupados = {}\n",
        "\n",
        "for reserva in reservas:\n",
        "    nome_cliente = reserva[\"cliente\"]\n",
        "    num_quarto = reserva[\"quarto\"]\n",
        "    dias = reserva[\"dias\"]\n",
        "    ocupados[num_quarto] = {\n",
        "        \"nome\": nome_cliente,\n",
        "        \"dias\": dias\n",
        "    }\n",
        "\n",
        "print(ocupados)"
      ],
      "metadata": {
        "id": "fdUdpPfLxGwL",
        "colab": {
          "base_uri": "https://localhost:8080/"
        },
        "outputId": "23b06297-ec50-4ec4-b9fd-034fe87f358f"
      },
      "execution_count": null,
      "outputs": [
        {
          "output_type": "stream",
          "name": "stdout",
          "text": [
            "{3: {'nome': 'Fulano', 'dias': 12}}\n"
          ]
        }
      ]
    },
    {
      "cell_type": "code",
      "source": [
        "#Com txt\n",
        "\n",
        "RESERVAS_FILE = 'reservas.txt'\n",
        "QUARTOS_FILE = 'quartos.txt'\n",
        "\n",
        "ocupados = {}\n",
        "\n",
        "for line in open(RESERVAS_FILE):\n",
        "  nome_cliente, num_quarto, dias = line.strip().split(\",\")\n",
        "  ocupados[int(num_quarto)] = {\n",
        "      \"nome\": nome_cliente,\n",
        "      \"dias\": int(dias)\n",
        "  }\n",
        "\n",
        "\n",
        "print(ocupados)\n"
      ],
      "metadata": {
        "colab": {
          "base_uri": "https://localhost:8080/"
        },
        "id": "Vf67-ex_m4d2",
        "outputId": "dc092348-8282-4beb-a534-6f7fd4133fb8"
      },
      "execution_count": null,
      "outputs": [
        {
          "output_type": "stream",
          "name": "stdout",
          "text": [
            "{3: {'nome': 'Fulano', 'dias': 12}}\n"
          ]
        }
      ]
    },
    {
      "cell_type": "code",
      "source": [
        "QUARTOS_FILE = \"reservas.txt\"\n",
        "\n",
        "with open(QUARTOS_FILE, \"r\") as arquivo:\n",
        "    for linha in arquivo:\n",
        "        print(linha.strip())\n"
      ],
      "metadata": {
        "id": "3N52U4lgtntS"
      },
      "execution_count": null,
      "outputs": []
    },
    {
      "cell_type": "code",
      "source": [
        "import sys\n",
        "import logging\n",
        "\n",
        "ocupados = {}\n",
        "try:\n",
        "  for line in open('reservas.txt'):\n",
        "    nome, num_quartos,  dias = line.strip().split(',')\n",
        "    ocupados[int(num_quartos)] = {\n",
        "        'nome':nome,\n",
        "        'dias': dias\n",
        "    }\n",
        "except FileNotFoundError:\n",
        "  logging.error('reservas nao existe')\n",
        "  sys.exit(1)\n",
        "\n",
        "quartos = {}\n",
        "try:\n",
        "  for line in open('quartos.txt'):\n",
        "    codigo, nome, preco = line.strip().split(',')\n",
        "    quartos[int(codigo)] = {\n",
        "        'nome':nome,\n",
        "        'preco': float(preco), #Boas praticas, melhor deixar decimal.\n",
        "        'disponivel': False if int(codigo) in ocupados else True\n",
        "    }\n",
        "except FileNotFoundError:\n",
        "  logging.error('Arquivo quartos nao existe')\n",
        "  sys.exit(1)\n",
        "\n",
        "\n",
        "print(\"Reserva Hotel\")\n",
        "print(\"-\" * 40)\n",
        "\"\"\"\n",
        "if len(ocupados) == len(quartos):\n",
        "  print('Hotel lotado.')\n",
        "  sys.exit(1)\n",
        "\"\"\"\n",
        "nome = input('Nome do cliente:').strip()\n",
        "\n",
        "print(\"Lista de quartos.\")\n",
        "for codigo, dados in quartos.items():\n",
        "  #print(f'{codigo} - {dados['nome']} - {dados['preco']}') em vez disso, melhor fazer isso:\n",
        "  #nome, preco = dados - esse é para tuplas\n",
        "  nome_quarto = dados['nome']\n",
        "  preco = dados['preco']  #para dicionario\n",
        "  #disponivel =  dados['disponivel'] '👍' and or '⛔'\n",
        "  disponivel = '⛔' if not dados['disponivel'] else '👍'\n",
        "  print(f'{codigo} - {nome_quarto} - R$ {preco:.2f} - {disponivel}')\n",
        "\n",
        "print(\"-\" *40)\n",
        "\n",
        "try:\n",
        "  num_quarto = int(input('Número do quarto:').strip())\n",
        "  if not quartos[num_quarto]['disponivel']:\n",
        "    print(f'O quarto {num_quarto} está ocupado')\n",
        "    sys.exit(1)\n",
        "except ValueError:\n",
        "  logging.error('Número inválido, digite apenas digitos.')\n",
        "  sys.exit(1)\n",
        "except KeyError:\n",
        "  logging.error(f'O quarto {num_quarto} não existe.')\n",
        "  sys.exit(1)\n",
        "try:\n",
        "  dias = int(input('Quantos dias?:').strip())\n",
        "except ValueError:\n",
        "  logging.error('Número inválido, digite apenas digitos.')\n",
        "  sys.exit(1)\n",
        "\n",
        "nome_quarto = quartos[num_quarto]['nome']\n",
        "preco_quarto = quartos[num_quarto]['preco']\n",
        "disponivel = quartos[num_quarto]['disponivel']\n",
        "total = preco_quarto * dias\n",
        "with open('reservas.txt', 'a') as file:\n",
        "    try:\n",
        "        if file.tell() > 0:\n",
        "            file.write('\\n')  # Adiciona uma quebra de linha se o arquivo não estiver vazio\n",
        "        file.write(f'{nome}, {num_quarto}, {dias}\\n')\n",
        "    except ValueError:\n",
        "        logging.error('A linha no arquivo reservas.txt não está no formato esperado. Ignorando...')\n",
        "print(f'{nome} você escolheu o quarto {nome_quarto} e vai custar: R$ {total:.2f}')"
      ],
      "metadata": {
        "id": "VYz8P330zA3R"
      },
      "execution_count": null,
      "outputs": []
    },
    {
      "cell_type": "code",
      "source": [],
      "metadata": {
        "id": "RkljHIYE0LWf"
      },
      "execution_count": null,
      "outputs": []
    }
  ]
}