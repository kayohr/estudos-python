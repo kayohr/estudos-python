{
  "nbformat": 4,
  "nbformat_minor": 0,
  "metadata": {
    "colab": {
      "provenance": [],
      "authorship_tag": "ABX9TyMKVkydcoBEEBqqWIbwvbI3",
      "include_colab_link": true
    },
    "kernelspec": {
      "name": "python3",
      "display_name": "Python 3"
    },
    "language_info": {
      "name": "python"
    }
  },
  "cells": [
    {
      "cell_type": "markdown",
      "metadata": {
        "id": "view-in-github",
        "colab_type": "text"
      },
      "source": [
        "<a href=\"https://colab.research.google.com/github/kayohr/estudos-python/blob/main/Treinando_Python_prt2.ipynb\" target=\"_parent\"><img src=\"https://colab.research.google.com/assets/colab-badge.svg\" alt=\"Open In Colab\"/></a>"
      ]
    },
    {
      "cell_type": "code",
      "execution_count": null,
      "metadata": {
        "id": "D9PfsqJrLfn8"
      },
      "outputs": [],
      "source": [
        "nome = input(\"Digite o nome:\").strip()\n",
        "nome"
      ]
    },
    {
      "cell_type": "code",
      "source": [
        "def calculate(operation, n1, n2):\n",
        "    valid_operations = (\"sum\", \"sub\", \"mul\", \"div\")\n",
        "    if operation not in valid_operations:\n",
        "        print(\"Operação inválida\")\n",
        "        print(valid_operations)\n",
        "        return None\n",
        "\n",
        "    if not (n1.replace(\".\", \"\").isdigit() and n2.replace(\".\", \"\").isdigit()):\n",
        "        print(\"Os números fornecidos não são válidos\")\n",
        "        return None\n",
        "\n",
        "    n1 = float(n1)\n",
        "    n2 = float(n2)\n",
        "\n",
        "    if operation == \"sum\":\n",
        "        return n1 + n2\n",
        "    elif operation == \"sub\":\n",
        "        return n1 - n2\n",
        "    elif operation == \"mul\":\n",
        "        return n1 * n2\n",
        "    elif operation == \"div\":\n",
        "        if n2 == 0:\n",
        "            print(\"Erro: Divisão por zero\")\n",
        "            return None\n",
        "        return n1 / n2\n",
        "\n",
        "if __name__ == \"__main__\":\n",
        "    if len(sys.argv) == 4:\n",
        "        operation = sys.argv[1]\n",
        "        n1 = sys.argv[2]\n",
        "        n2 = sys.argv[3]\n",
        "    else:\n",
        "        operation = input(\"Operação: \")\n",
        "        n1 = input(\"n1: \")\n",
        "        n2 = input(\"n2: \")\n",
        "\n",
        "    result = calculate(operation, n1, n2)\n",
        "    if result is not None:\n",
        "        print(f\"O resultado é {result}\")\n"
      ],
      "metadata": {
        "id": "-6ltJTNbLlYA"
      },
      "execution_count": null,
      "outputs": []
    },
    {
      "cell_type": "code",
      "source": [
        "#Tipos de Logging\n",
        "\n",
        "import logging\n",
        "\n",
        "logging.debug(\"Mensagem para o dev\")\n",
        "logging.info(\"Mensagem geral para usuarios\")\n",
        "logging.warning(\"Aviso que nao causa erro\")\n",
        "logging.error(\"Erro que afeta uma unica execucao\")\n",
        "logging.critical(\"Erro geral ex: banco de dados sumiu\")"
      ],
      "metadata": {
        "colab": {
          "base_uri": "https://localhost:8080/"
        },
        "id": "Y1Xb502sN9F_",
        "outputId": "ed44cd55-f94a-46d7-dc6c-fb9712b5bba5"
      },
      "execution_count": null,
      "outputs": [
        {
          "output_type": "stream",
          "name": "stderr",
          "text": [
            "WARNING:root:Aviso que nao causa erro\n",
            "ERROR:root:Erro que afeta uma unica execucao\n",
            "CRITICAL:root:Erro geral ex: banco de dados sumiu\n"
          ]
        }
      ]
    },
    {
      "cell_type": "code",
      "source": [
        "#Forçar outros logging\n",
        "import logging\n",
        "\n",
        "#Minha Instancia\n",
        "log = logging.Logger('teste', logging.DEBUG) #em vez de logging.DEBUG pode ser 10\n",
        "\n",
        "#level\n",
        "ch = logging.StreamHandler()\n",
        "ch.setLevel(logging.DEBUG)\n",
        "#formatacao\n",
        "fmt = logging.Formatter(\n",
        "    '%(asctime)s  %(name)s  %(levelname)s  %(lineno)d  %(filename)s  %(message)s'\n",
        ")\n",
        "ch.setFormatter(fmt)\n",
        "#destino\n",
        "log.addHandler(ch)\n",
        "\n",
        "log.debug(\"Mensagem para o dev\")\n",
        "log.info(\"Mensagem geral para usuarios\")\n",
        "log.warning(\"Aviso que nao causa erro\")\n",
        "log.error(\"Erro que afeta uma unica execucao\")\n",
        "log.critical(\"Erro geral ex: banco de dados sumiu\")"
      ],
      "metadata": {
        "colab": {
          "base_uri": "https://localhost:8080/"
        },
        "id": "3Pgn_qdDrAgn",
        "outputId": "5a1ca7f9-677c-41df-fbe0-d85c29c78bf3"
      },
      "execution_count": null,
      "outputs": [
        {
          "output_type": "stream",
          "name": "stderr",
          "text": [
            "2024-04-23 16:14:47,657  teste  DEBUG  18  <ipython-input-4-b7c3cdf4a074>  Mensagem para o dev\n",
            "2024-04-23 16:14:47,660  teste  INFO  19  <ipython-input-4-b7c3cdf4a074>  Mensagem geral para usuarios\n",
            "2024-04-23 16:14:47,662  teste  WARNING  20  <ipython-input-4-b7c3cdf4a074>  Aviso que nao causa erro\n",
            "2024-04-23 16:14:47,664  teste  ERROR  21  <ipython-input-4-b7c3cdf4a074>  Erro que afeta uma unica execucao\n",
            "2024-04-23 16:14:47,666  teste  CRITICAL  22  <ipython-input-4-b7c3cdf4a074>  Erro geral ex: banco de dados sumiu\n"
          ]
        }
      ]
    },
    {
      "cell_type": "code",
      "source": [
        "import os\n",
        "import logging\n",
        "from logging import handlers\n",
        "\n",
        "log_level = os.getenv('LOGO_LEVEL', 'WARNING')\n",
        "log = logging.Logger('teste', log_level)\n",
        "\n",
        "ch = logging.StreamHandler()\n",
        "ch.setLevel(log_level)\n",
        "\"\"\"\n",
        "fh = handlers.RotatingFileHandler(\n",
        "    'meulog.log',\n",
        "    maxBytes= 100, #10**6\n",
        "    backpCount=10,\n",
        "    )\n",
        "#fh.setLevel(log_level)\n",
        "fmt = logging.Formatter(\n",
        "    '%(asctime)s  %(name)s  %(levelname)s  %(lineno)d  %(filename)s  %(message)s'\n",
        ")\n",
        "\"\"\"\n",
        "ch.setFormatter(fmt)\n",
        "log.addHandler(ch)\n",
        "#fh.setFormatter(fmt)\n",
        "#log.addHandler(fh)\n",
        "\n",
        "\n",
        "try:\n",
        "  1 / 0\n",
        "except ZeroDivisionError as e:\n",
        "  log.error('Deu erro %s', str(e))"
      ],
      "metadata": {
        "colab": {
          "base_uri": "https://localhost:8080/"
        },
        "id": "SK0DQE0k0_XN",
        "outputId": "23bc6b88-7f2d-4560-94b4-901034595ae4"
      },
      "execution_count": null,
      "outputs": [
        {
          "output_type": "stream",
          "name": "stderr",
          "text": [
            "2024-04-23 16:41:44,078  teste  ERROR  18  <ipython-input-5-fcce0848916b>  Deu erro division by zero\n"
          ]
        }
      ]
    },
    {
      "cell_type": "code",
      "source": [
        "nome = \"\"\n",
        "print(f\"Olá {nome or 'pessoa'}, boas vindas!\")"
      ],
      "metadata": {
        "id": "zSVGH-fD1au0"
      },
      "execution_count": null,
      "outputs": []
    },
    {
      "cell_type": "code",
      "source": [
        "\"\"\"\n",
        "numbers1 = range(1, 6)\n",
        "numbers2 = range(1, 700, 200)\n",
        "\n",
        "for number in numbers1:\n",
        "  print(number)\n",
        "\n",
        "for number in numbers2:\n",
        "  print(number)\n",
        "\"\"\"\n",
        "numbers = range(1,11)\n",
        "\n",
        "for number in numbers:\n",
        "  par = number %  2 == 0\n",
        "  if par:\n",
        "    print(number)\n",
        "  else:\n",
        "    continue\n",
        "  print(f\"mais cod com {number}\")\n"
      ],
      "metadata": {
        "id": "kKju0TKifpoO"
      },
      "execution_count": null,
      "outputs": []
    },
    {
      "cell_type": "code",
      "source": [
        "for i in range(1, 11):\n",
        "    if i == 3:\n",
        "        continue\n",
        "    #elif i == 11:\n",
        "    elif i == 7:\n",
        "        break\n",
        "    elif i == 9:\n",
        "        pass\n",
        "    else:\n",
        "        print(i)"
      ],
      "metadata": {
        "id": "8AUMIIe2MJO_"
      },
      "execution_count": null,
      "outputs": []
    },
    {
      "cell_type": "code",
      "source": [
        "#Só para mostrar o que tem dentro\n",
        "with open(\"post.txt\", \"r\") as arquivo:\n",
        "    conteudo = arquivo.read()\n",
        "    print(conteudo)"
      ],
      "metadata": {
        "colab": {
          "base_uri": "https://localhost:8080/"
        },
        "id": "MTlVm-MhXTk4",
        "outputId": "7cf46e20-df3f-4fc4-b60e-2b992fb76951"
      },
      "execution_count": 20,
      "outputs": [
        {
          "output_type": "stream",
          "name": "stdout",
          "text": [
            "title: Meu post\n",
            "tags:tech, geral\n",
            "\n",
            "date:2022-02-10\n",
            "published:1\n",
            "\n",
            "---\n",
            "\n",
            "Este é o meu post\n",
            "Aqui tem texto e conteudo\n",
            "etc. etc. etc.\n"
          ]
        }
      ]
    },
    {
      "cell_type": "code",
      "source": [
        "#poderia usr o conteudo, mas vou usar como se tivesse abrindo diretamente no for\n",
        "\"\"\"\n",
        "dados = {}\n",
        "for line in open(\"post.txt\"):\n",
        "  if line == \"---\\n\":\n",
        "    break\n",
        "  key, valor = line.split(\":\")\n",
        "  dados[key] = valor.strip()\n",
        "print(dados)\n",
        "\n",
        "\"\"\"\n",
        "dados = {}\n",
        "for line in open(\"post.txt\"):\n",
        "  if line.strip() == \"---\":\n",
        "    break\n",
        "  elif \":\" not in line:\n",
        "    continue\n",
        "  key, valor = line.split(\":\", 1)\n",
        "  dados[key.strip()] = valor.strip()\n",
        "print(dados)\n"
      ],
      "metadata": {
        "colab": {
          "base_uri": "https://localhost:8080/"
        },
        "id": "JXQbq6AEXhhX",
        "outputId": "dffe04ae-6472-4f64-a9e1-20ddc2856dc2"
      },
      "execution_count": 29,
      "outputs": [
        {
          "output_type": "stream",
          "name": "stdout",
          "text": [
            "{'title': 'Meu post', 'tags': 'tech, geral', 'date': '2022-02-10', 'published': '1'}\n"
          ]
        }
      ]
    },
    {
      "cell_type": "code",
      "source": [
        "#List Comprehesion\n",
        "original = [1 , 2 ,3]\n",
        "dobrada = [n*2 for n in original]\n",
        "print(dobrada)\n",
        "\n",
        "#dict comprehesion\n",
        "#dados = [line.strip() for line in open(\"post.txt\") if \":\" in line ]\n",
        "print(dados)\n",
        "\n",
        "#Transformando em dicionario\n",
        "dados = {\n",
        "    line.split(\":\")[0]: line.split(\":\")[1].strip()\n",
        "    for line in open(\"post.txt\")\n",
        "    if \":\" in line\n",
        "    }\n",
        "#dados = {key.strip(): valor.strip() for line in open(\"post.txt\") if \":\" in line for key, valor in [line.split(\":\", 1)]}\n",
        "#print(dados)"
      ],
      "metadata": {
        "colab": {
          "base_uri": "https://localhost:8080/"
        },
        "id": "DodCM9wEYCkP",
        "outputId": "78c5dee3-028e-4f69-88c9-b663dc03e285"
      },
      "execution_count": 45,
      "outputs": [
        {
          "output_type": "stream",
          "name": "stdout",
          "text": [
            "[2, 4, 6]\n",
            "['title: Meu post', 'tags:tech, geral', 'date:2022-02-10', 'published:1']\n"
          ]
        }
      ]
    },
    {
      "cell_type": "code",
      "source": [],
      "metadata": {
        "id": "Mijrb5jwf-PC"
      },
      "execution_count": null,
      "outputs": []
    }
  ]
}