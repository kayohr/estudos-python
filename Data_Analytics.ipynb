{
  "nbformat": 4,
  "nbformat_minor": 0,
  "metadata": {
    "colab": {
      "provenance": [],
      "authorship_tag": "ABX9TyN/g1ySyMRZzYLzGPtbiiTY",
      "include_colab_link": true
    },
    "kernelspec": {
      "name": "python3",
      "display_name": "Python 3"
    },
    "language_info": {
      "name": "python"
    }
  },
  "cells": [
    {
      "cell_type": "markdown",
      "metadata": {
        "id": "view-in-github",
        "colab_type": "text"
      },
      "source": [
        "<a href=\"https://colab.research.google.com/github/kayohr/estudos-python/blob/main/Data_Analytics.ipynb\" target=\"_parent\"><img src=\"https://colab.research.google.com/assets/colab-badge.svg\" alt=\"Open In Colab\"/></a>"
      ]
    },
    {
      "cell_type": "code",
      "execution_count": null,
      "metadata": {
        "id": "iTzmvGw6OYWY"
      },
      "outputs": [],
      "source": [
        "numero_passos = int(input(\"Digite a quantidade de passos que o explorador deve dar na floresta: \"))\n",
        "\n",
        "# Verifica se o número de passos é positivo\n",
        "if numero_passos > 0:\n",
        "    # Imprime o progresso do explorador na floresta\n",
        "    for passo in range(1, numero_passos + 1):\n",
        "        print(f\"Explorador: {passo} passo{'s' if passo > 1 else ''}\")\n",
        "else:\n",
        "    # Caso nenhum passo seja dado\n",
        "    print(\"Nenhum passo dado na floresta.\")\n",
        "\n",
        "\n"
      ]
    },
    {
      "cell_type": "code",
      "source": [
        "itens = []\n",
        "\n",
        "# Solicita ao usuário o nome dos 3 itens que o personagem possui\n",
        "\n",
        "for i in range(3):\n",
        "    item = input()\n",
        "    itens.append(item)\n",
        "\n",
        "# Exibe a lista de itens\n",
        "print(\"Lista de itens:\")\n",
        "for item in itens:\n",
        "    print(f\"- {item}\")\n"
      ],
      "metadata": {
        "id": "ACsVx3V-rvXV"
      },
      "execution_count": null,
      "outputs": []
    },
    {
      "cell_type": "code",
      "source": [
        "capacidade_atual, aumento_percentual = map(int, input().split())\n",
        "\n",
        "# Calcula a nova capacidade total em teraflops\n",
        "nova_capacidade = capacidade_atual * (1 + aumento_percentual / 100)\n",
        "\n",
        "# Imprime a nova capacidade total\n",
        "print(int(nova_capacidade))\n"
      ],
      "metadata": {
        "id": "tbWm0qg8tzsW"
      },
      "execution_count": null,
      "outputs": []
    },
    {
      "cell_type": "code",
      "source": [
        "def classificar_numero(numero):\n",
        "    if numero > 0:\n",
        "        return \"positivo!\"\n",
        "    elif numero < 0:\n",
        "        return \"negativo!\"\n",
        "    else:\n",
        "        return \"zero\"\n",
        "\n",
        "def main():\n",
        "    numeros_positivos = 0\n",
        "    numeros_negativos = 0\n",
        "\n",
        "    while True:\n",
        "        entrada = int(input(\"Insira um número (0 para encerrar): \"))\n",
        "\n",
        "        if entrada == 0:\n",
        "            break\n",
        "\n",
        "        classificacao = classificar_numero(entrada)\n",
        "        print(classificacao)\n",
        "\n",
        "        if classificacao == \"positivo!\":\n",
        "            numeros_positivos += 1\n",
        "        elif classificacao == \"negativo!\":\n",
        "            numeros_negativos += 1\n",
        "\n",
        "    print(f\"{numeros_positivos} números positivos, {numeros_negativos} números negativos\")\n",
        "\n",
        "if __name__ == \"__main__\":\n",
        "    main()\n"
      ],
      "metadata": {
        "id": "oKZD6xIoOlk8"
      },
      "execution_count": null,
      "outputs": []
    },
    {
      "cell_type": "code",
      "source": [
        "def prever_fruta(peso, textura, cor):\n",
        "    # Verifica se a fruta é uma maçã\n",
        "    if peso >= 130 and textura == \"rough\" and cor == \"red\":\n",
        "        return \"A fruta é uma maçã!\"\n",
        "    # Verifica se a fruta é um laranja\n",
        "    elif peso >= 120 and textura == \"smooth\" and cor == \"orange\":\n",
        "        return \"A fruta é uma laranja!\"\n",
        "    # Verifica se a fruta é um morango\n",
        "    elif peso >= 150 and textura == \"smooth\" and cor == \"red\":\n",
        "        return \"A fruta é um morango!\"\n",
        "    # Verifica se a fruta é uma banana\n",
        "    elif peso >= 150 and textura == \"rough\" and cor == \"yellow\":\n",
        "        return \"A fruta é uma banana!\"\n",
        "    # Caso não seja possível classificar a fruta\n",
        "    else:\n",
        "        return \"Não foi possível classificar a fruta.\"\n",
        "\n",
        "# Entrada do usuário\n",
        "peso_fruta = float(input(\"Peso da fruta (em gramas): \"))\n",
        "textura_fruta = input(\"Textura da fruta (suave ou áspera): \")\n",
        "cor_fruta = input(\"Cor da fruta (vermelha, laranja ou amarela): \")\n",
        "\n",
        "# Chamada da função de previsão\n",
        "resultado = prever_fruta(peso_fruta, textura_fruta, cor_fruta)\n",
        "\n",
        "# Saída da previsão\n",
        "print(resultado)\n"
      ],
      "metadata": {
        "id": "Qh4a3pvGT9d-"
      },
      "execution_count": null,
      "outputs": []
    },
    {
      "cell_type": "code",
      "source": [
        "def prever_afinidade_elemental(intensidade, componente_raro, fase_lunar, idade_feiticeiro, afinidade_animais):\n",
        "    # Convertendo a resposta do componente raro e afinidade com animais para booleanos\n",
        "    componente_raro = componente_raro.lower() == \"sim\"\n",
        "    afinidade_animais = afinidade_animais.lower() == \"sim\"\n",
        "\n",
        "    # Lógica de decisão para prever a afinidade elemental\n",
        "    if intensidade >= 5 and fase_lunar == \"crescente\" and idade_feiticeiro > 100:\n",
        "        return \"A afinidade elemental do feiticeiro é com o elemento Fogo!\"\n",
        "    elif intensidade >= 7 and componente_raro and fase_lunar == \"cheia\" and idade_feiticeiro <= 100 and afinidade_animais:\n",
        "        return \"A afinidade elemental do feiticeiro é com o elemento Terra!\"\n",
        "    elif intensidade >= 7 and componente_raro and fase_lunar == \"cheia\" and idade_feiticeiro <= 100:\n",
        "        return \"A afinidade elemental do feiticeiro é com o elemento Água!\"\n",
        "    else:\n",
        "        return \"A afinidade elemental do feiticeiro é com o elemento Ar!\"\n",
        "\n",
        "# Entrada do usuário\n",
        "intensidade_feitico = int(input(\"Intensidade do feitiço (de 1 a 10): \"))\n",
        "componente_raro_feitico = input(\"Componente raro (sim ou não): \")\n",
        "fase_lunar_feitico = input(\"Fase lunar (cheia, crescente ou minguante): \")\n",
        "idade_feiticeiro = int(input(\"Idade do feiticeiro (em anos): \"))\n",
        "afinidade_animais_feiticeiro = input(\"Afinidade com animais mágicos (sim ou não): \")\n",
        "\n",
        "# Fazendo a previsão\n",
        "resultado = prever_afinidade_elemental(intensidade_feitico, componente_raro_feitico, fase_lunar_feitico, idade_feiticeiro, afinidade_animais_feiticeiro)\n",
        "\n",
        "# Saída da previsão\n",
        "print(resultado)\n"
      ],
      "metadata": {
        "id": "FC4ykYBlUTlO"
      },
      "execution_count": null,
      "outputs": []
    }
  ]
}