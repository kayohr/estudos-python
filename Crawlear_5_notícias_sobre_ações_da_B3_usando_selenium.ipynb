{
  "nbformat": 4,
  "nbformat_minor": 0,
  "metadata": {
    "colab": {
      "provenance": [],
      "authorship_tag": "ABX9TyMUTfW7iXQ8KRncChvajth0",
      "include_colab_link": true
    },
    "kernelspec": {
      "name": "python3",
      "display_name": "Python 3"
    },
    "language_info": {
      "name": "python"
    }
  },
  "cells": [
    {
      "cell_type": "markdown",
      "metadata": {
        "id": "view-in-github",
        "colab_type": "text"
      },
      "source": [
        "<a href=\"https://colab.research.google.com/github/kayohr/estudos-python/blob/main/Crawlear_5_not%C3%ADcias_sobre_a%C3%A7%C3%B5es_da_B3_usando_selenium.ipynb\" target=\"_parent\"><img src=\"https://colab.research.google.com/assets/colab-badge.svg\" alt=\"Open In Colab\"/></a>"
      ]
    },
    {
      "cell_type": "code",
      "metadata": {
        "id": "1blN2MNwFr9N",
        "outputId": "d130c90e-cca8-431c-d2c3-f8ef77868b3a",
        "colab": {
          "base_uri": "https://localhost:8080/"
        }
      },
      "source": [
        "!pip install flask-ngrok\n",
        "!pip install Flask selenium\n",
        "!pip install selenium\n",
        "!apt-get update # Para obter a última lista de pacotes\n",
        "!apt-get install -y chromium-chromedriver\n",
        "!cp /usr/lib/chromium-browser/chromedriver /usr/bin\n"
      ],
      "execution_count": null,
      "outputs": [
        {
          "output_type": "stream",
          "name": "stdout",
          "text": [
            "Requirement already satisfied: flask-ngrok in /usr/local/lib/python3.10/dist-packages (0.0.25)\n",
            "Requirement already satisfied: Flask>=0.8 in /usr/local/lib/python3.10/dist-packages (from flask-ngrok) (2.2.5)\n",
            "Requirement already satisfied: requests in /usr/local/lib/python3.10/dist-packages (from flask-ngrok) (2.31.0)\n",
            "Requirement already satisfied: Werkzeug>=2.2.2 in /usr/local/lib/python3.10/dist-packages (from Flask>=0.8->flask-ngrok) (3.0.3)\n",
            "Requirement already satisfied: Jinja2>=3.0 in /usr/local/lib/python3.10/dist-packages (from Flask>=0.8->flask-ngrok) (3.1.4)\n",
            "Requirement already satisfied: itsdangerous>=2.0 in /usr/local/lib/python3.10/dist-packages (from Flask>=0.8->flask-ngrok) (2.2.0)\n",
            "Requirement already satisfied: click>=8.0 in /usr/local/lib/python3.10/dist-packages (from Flask>=0.8->flask-ngrok) (8.1.7)\n",
            "Requirement already satisfied: charset-normalizer<4,>=2 in /usr/local/lib/python3.10/dist-packages (from requests->flask-ngrok) (3.3.2)\n",
            "Requirement already satisfied: idna<4,>=2.5 in /usr/local/lib/python3.10/dist-packages (from requests->flask-ngrok) (3.7)\n",
            "Requirement already satisfied: urllib3<3,>=1.21.1 in /usr/local/lib/python3.10/dist-packages (from requests->flask-ngrok) (2.0.7)\n",
            "Requirement already satisfied: certifi>=2017.4.17 in /usr/local/lib/python3.10/dist-packages (from requests->flask-ngrok) (2024.6.2)\n",
            "Requirement already satisfied: MarkupSafe>=2.0 in /usr/local/lib/python3.10/dist-packages (from Jinja2>=3.0->Flask>=0.8->flask-ngrok) (2.1.5)\n",
            "Requirement already satisfied: Flask in /usr/local/lib/python3.10/dist-packages (2.2.5)\n",
            "Requirement already satisfied: selenium in /usr/local/lib/python3.10/dist-packages (4.21.0)\n",
            "Requirement already satisfied: Werkzeug>=2.2.2 in /usr/local/lib/python3.10/dist-packages (from Flask) (3.0.3)\n",
            "Requirement already satisfied: Jinja2>=3.0 in /usr/local/lib/python3.10/dist-packages (from Flask) (3.1.4)\n",
            "Requirement already satisfied: itsdangerous>=2.0 in /usr/local/lib/python3.10/dist-packages (from Flask) (2.2.0)\n",
            "Requirement already satisfied: click>=8.0 in /usr/local/lib/python3.10/dist-packages (from Flask) (8.1.7)\n",
            "Requirement already satisfied: urllib3[socks]<3,>=1.26 in /usr/local/lib/python3.10/dist-packages (from selenium) (2.0.7)\n",
            "Requirement already satisfied: trio~=0.17 in /usr/local/lib/python3.10/dist-packages (from selenium) (0.25.1)\n",
            "Requirement already satisfied: trio-websocket~=0.9 in /usr/local/lib/python3.10/dist-packages (from selenium) (0.11.1)\n",
            "Requirement already satisfied: certifi>=2021.10.8 in /usr/local/lib/python3.10/dist-packages (from selenium) (2024.6.2)\n",
            "Requirement already satisfied: typing_extensions>=4.9.0 in /usr/local/lib/python3.10/dist-packages (from selenium) (4.12.1)\n",
            "Requirement already satisfied: MarkupSafe>=2.0 in /usr/local/lib/python3.10/dist-packages (from Jinja2>=3.0->Flask) (2.1.5)\n",
            "Requirement already satisfied: attrs>=23.2.0 in /usr/local/lib/python3.10/dist-packages (from trio~=0.17->selenium) (23.2.0)\n",
            "Requirement already satisfied: sortedcontainers in /usr/local/lib/python3.10/dist-packages (from trio~=0.17->selenium) (2.4.0)\n",
            "Requirement already satisfied: idna in /usr/local/lib/python3.10/dist-packages (from trio~=0.17->selenium) (3.7)\n",
            "Requirement already satisfied: outcome in /usr/local/lib/python3.10/dist-packages (from trio~=0.17->selenium) (1.3.0.post0)\n",
            "Requirement already satisfied: sniffio>=1.3.0 in /usr/local/lib/python3.10/dist-packages (from trio~=0.17->selenium) (1.3.1)\n",
            "Requirement already satisfied: exceptiongroup in /usr/local/lib/python3.10/dist-packages (from trio~=0.17->selenium) (1.2.1)\n",
            "Requirement already satisfied: wsproto>=0.14 in /usr/local/lib/python3.10/dist-packages (from trio-websocket~=0.9->selenium) (1.2.0)\n",
            "Requirement already satisfied: pysocks!=1.5.7,<2.0,>=1.5.6 in /usr/local/lib/python3.10/dist-packages (from urllib3[socks]<3,>=1.26->selenium) (1.7.1)\n",
            "Requirement already satisfied: h11<1,>=0.9.0 in /usr/local/lib/python3.10/dist-packages (from wsproto>=0.14->trio-websocket~=0.9->selenium) (0.14.0)\n",
            "Requirement already satisfied: selenium in /usr/local/lib/python3.10/dist-packages (4.21.0)\n",
            "Requirement already satisfied: urllib3[socks]<3,>=1.26 in /usr/local/lib/python3.10/dist-packages (from selenium) (2.0.7)\n",
            "Requirement already satisfied: trio~=0.17 in /usr/local/lib/python3.10/dist-packages (from selenium) (0.25.1)\n",
            "Requirement already satisfied: trio-websocket~=0.9 in /usr/local/lib/python3.10/dist-packages (from selenium) (0.11.1)\n",
            "Requirement already satisfied: certifi>=2021.10.8 in /usr/local/lib/python3.10/dist-packages (from selenium) (2024.6.2)\n",
            "Requirement already satisfied: typing_extensions>=4.9.0 in /usr/local/lib/python3.10/dist-packages (from selenium) (4.12.1)\n",
            "Requirement already satisfied: attrs>=23.2.0 in /usr/local/lib/python3.10/dist-packages (from trio~=0.17->selenium) (23.2.0)\n",
            "Requirement already satisfied: sortedcontainers in /usr/local/lib/python3.10/dist-packages (from trio~=0.17->selenium) (2.4.0)\n",
            "Requirement already satisfied: idna in /usr/local/lib/python3.10/dist-packages (from trio~=0.17->selenium) (3.7)\n",
            "Requirement already satisfied: outcome in /usr/local/lib/python3.10/dist-packages (from trio~=0.17->selenium) (1.3.0.post0)\n",
            "Requirement already satisfied: sniffio>=1.3.0 in /usr/local/lib/python3.10/dist-packages (from trio~=0.17->selenium) (1.3.1)\n",
            "Requirement already satisfied: exceptiongroup in /usr/local/lib/python3.10/dist-packages (from trio~=0.17->selenium) (1.2.1)\n",
            "Requirement already satisfied: wsproto>=0.14 in /usr/local/lib/python3.10/dist-packages (from trio-websocket~=0.9->selenium) (1.2.0)\n",
            "Requirement already satisfied: pysocks!=1.5.7,<2.0,>=1.5.6 in /usr/local/lib/python3.10/dist-packages (from urllib3[socks]<3,>=1.26->selenium) (1.7.1)\n",
            "Requirement already satisfied: h11<1,>=0.9.0 in /usr/local/lib/python3.10/dist-packages (from wsproto>=0.14->trio-websocket~=0.9->selenium) (0.14.0)\n",
            "Hit:1 https://cloud.r-project.org/bin/linux/ubuntu jammy-cran40/ InRelease\n",
            "Hit:2 http://archive.ubuntu.com/ubuntu jammy InRelease\n",
            "Hit:3 http://security.ubuntu.com/ubuntu jammy-security InRelease\n",
            "Hit:4 http://archive.ubuntu.com/ubuntu jammy-updates InRelease\n",
            "Hit:5 https://developer.download.nvidia.com/compute/cuda/repos/ubuntu2204/x86_64  InRelease\n",
            "Hit:6 http://archive.ubuntu.com/ubuntu jammy-backports InRelease\n",
            "Hit:7 https://ppa.launchpadcontent.net/c2d4u.team/c2d4u4.0+/ubuntu jammy InRelease\n",
            "Hit:8 https://ppa.launchpadcontent.net/deadsnakes/ppa/ubuntu jammy InRelease\n",
            "Hit:9 https://ppa.launchpadcontent.net/graphics-drivers/ppa/ubuntu jammy InRelease\n",
            "Hit:10 https://ppa.launchpadcontent.net/ubuntugis/ppa/ubuntu jammy InRelease\n",
            "Reading package lists... Done\n",
            "Reading package lists... Done\n",
            "Building dependency tree... Done\n",
            "Reading state information... Done\n",
            "chromium-chromedriver is already the newest version (1:85.0.4183.83-0ubuntu2.22.04.1).\n",
            "0 upgraded, 0 newly installed, 0 to remove and 48 not upgraded.\n",
            "cp: '/usr/lib/chromium-browser/chromedriver' and '/usr/bin/chromedriver' are the same file\n"
          ]
        }
      ]
    },
    {
      "cell_type": "code",
      "source": [
        "!apt-get install chromium-browser"
      ],
      "metadata": {
        "id": "F8Wd5XxoOd73",
        "outputId": "89d6f068-8db3-4791-f836-737a95ef1aab",
        "colab": {
          "base_uri": "https://localhost:8080/"
        }
      },
      "execution_count": null,
      "outputs": [
        {
          "output_type": "stream",
          "name": "stdout",
          "text": [
            "Reading package lists... Done\n",
            "Building dependency tree... Done\n",
            "Reading state information... Done\n",
            "chromium-browser is already the newest version (1:85.0.4183.83-0ubuntu2.22.04.1).\n",
            "chromium-browser set to manually installed.\n",
            "0 upgraded, 0 newly installed, 0 to remove and 48 not upgraded.\n"
          ]
        }
      ]
    },
    {
      "cell_type": "code",
      "source": [],
      "metadata": {
        "id": "Kq63wN4aTujP"
      },
      "execution_count": null,
      "outputs": []
    },
    {
      "cell_type": "code",
      "source": [],
      "metadata": {
        "id": "gUuay14xTwq1"
      },
      "execution_count": null,
      "outputs": []
    },
    {
      "cell_type": "code",
      "source": [
        "#Utilizar Selenium (Crawler)\n",
        "\n",
        "from selenium import webdriver\n",
        "from selenium.webdriver.chrome.service import Service\n",
        "from selenium.webdriver.common.by import By\n",
        "from selenium.webdriver.chrome.options import Options\n",
        "\n",
        "def perform_scraping(url):\n",
        "    # Configuração do ChromeDriver\n",
        "    chrome_options = Options()\n",
        "    chrome_options.add_argument(\"--headless\")\n",
        "    chrome_options.add_argument(\"--no-sandbox\")\n",
        "    chrome_options.add_argument(\"--disable-dev-shm-usage\")\n",
        "    service = Service('/usr/bin/chromedriver')\n",
        "    driver = webdriver.Chrome(service=service, options=chrome_options)\n",
        "\n",
        "    # Acessa a URL\n",
        "    driver.get(url)\n",
        "\n",
        "    # Exemplo de scraping (modificar conforme necessário)\n",
        "    titles = driver.find_elements(By.TAG_NAME, 'h1')\n",
        "    data = {\"titles\": [title.text for title in titles]}\n",
        "\n",
        "    driver.quit()\n",
        "    return data\n"
      ],
      "metadata": {
        "id": "TVxScpA-ORKd"
      },
      "execution_count": null,
      "outputs": []
    },
    {
      "cell_type": "code",
      "source": [],
      "metadata": {
        "id": "wq_dXv_SQojP"
      },
      "execution_count": null,
      "outputs": []
    },
    {
      "cell_type": "code",
      "source": [
        "from selenium import webdriver\n",
        "from selenium.webdriver.common.by import By\n",
        "\n",
        "options = webdriver.ChromeOptions()\n",
        "options.add_argument('--headless')\n",
        "options.add_argument('--no-sandbox')\n",
        "options.add_argument('--disable-gpu')\n",
        "options.add_argument('--disable-dev-shm-usage')\n",
        "\n",
        "driver = webdriver.Chrome(options=options)\n",
        "\n",
        "news = []\n",
        "\n",
        "driver.get('https://www.spacemoney.com.br/ultimas-noticias')\n",
        "'''\n",
        "for element in driver.find_elements(By.XPATH, '//div[@class=\"linkNoticia crop\"]'):\n",
        "    print(element.text)\n",
        "'''\n",
        "elements = driver.find_elements(By.XPATH, '//div[@class=\"linkNoticia crop\"]')\n",
        "for element in elements[:5]:\n",
        "    news.append(element.text)\n",
        "\n",
        "print(news)\n",
        "\n",
        "\n",
        "\n",
        "driver.quit()\n",
        "\n",
        "\n",
        "\n",
        "\n"
      ],
      "metadata": {
        "id": "S0PZG9POUYhc",
        "outputId": "53707c38-84e6-47cf-e947-fd6927fa4b67",
        "colab": {
          "base_uri": "https://localhost:8080/"
        }
      },
      "execution_count": null,
      "outputs": [
        {
          "output_type": "stream",
          "name": "stdout",
          "text": [
            "['Ações recomendadas\\nCarrefour (CRFB3), Panvel (PNVL3) e Lojas Renner (LREN3): como a tragédia no RS afeta varejistas?\\nGenial Investimentos acredita que, neste primeiro momento, o bolso do consumidor vai estar comprometido com as compras de produtos de primeira necessidade\\n14h00 - 09 Jun 2024Por Lucas de Andrade', 'Golpe do Pix\\nGolpe da Multiplicação do PIX: 7 dicas para identificar e se proteger\\nEspecialista dá explica como evitar cair nessas fraudes\\n13h00 - 09 Jun 2024Por Kadu Soares', 'Ações recomendadas\\nBRF (BRFS3): Santander eleva preço-alvo, mas não recomenda compra na ação\\nO potencial de valorização no ativo é limitado, segundo a instituição\\n12h00 - 09 Jun 2024Por Mari Galvão', 'Ações recomendadas\\nGrupo Mateus (GMAT3) é o favorito do BTG Pactual no setor de varejo alimentício\\nO Grupo vai assumir o controle do Novo Atacarejo através da combinação de todos os negócios da empresa com as operações de atacado\\n10h00 - 09 Jun 2024Por Redação SpaceMoney', \"Ações Recomendadas\\nRede D'Or (RDOR3) adia lançamentos de 2024 e ações reagem; BTG Pactual analisa futuro da empresa\\nBanco reiterou recomendação de compra, por acreditar que plano ainda pode ser vantajoso para ação\\n09h00 - 09 Jun 2024Por José Chacon\"]\n"
          ]
        }
      ]
    },
    {
      "cell_type": "code",
      "source": [
        "from selenium import webdriver\n",
        "from selenium.webdriver.common.by import By\n",
        "\n",
        "def scrape_news(url='https://www.spacemoney.com.br/ultimas-noticias', num_news=5):\n",
        "    options = webdriver.ChromeOptions()\n",
        "    options.add_argument('--headless')\n",
        "    options.add_argument('--no-sandbox')\n",
        "    options.add_argument('--disable-gpu')\n",
        "    options.add_argument('--disable-dev-shm-usage')\n",
        "\n",
        "    driver = webdriver.Chrome(options=options)\n",
        "\n",
        "    driver.get(url)\n",
        "\n",
        "    news = []\n",
        "    elements = driver.find_elements(By.XPATH, '//div[@class=\"linkNoticia crop\"]')\n",
        "    for element in elements[:num_news]:\n",
        "        news.append(element.text)\n",
        "\n",
        "    driver.quit()\n",
        "    return news\n",
        "\n",
        "\n",
        "news = scrape_news()\n",
        "print(news)\n"
      ],
      "metadata": {
        "colab": {
          "base_uri": "https://localhost:8080/"
        },
        "id": "QMmHUedYWODv",
        "outputId": "b6ae92bf-1128-421c-97d6-c36c32be6f4d"
      },
      "execution_count": null,
      "outputs": [
        {
          "output_type": "stream",
          "name": "stdout",
          "text": [
            "['Ações recomendadas\\nCarrefour (CRFB3), Panvel (PNVL3) e Lojas Renner (LREN3): como a tragédia no RS afeta varejistas?\\nGenial Investimentos acredita que, neste primeiro momento, o bolso do consumidor vai estar comprometido com as compras de produtos de primeira necessidade\\n14h00 - 09 Jun 2024Por Lucas de Andrade', 'Golpe do Pix\\nGolpe da Multiplicação do PIX: 7 dicas para identificar e se proteger\\nEspecialista dá explica como evitar cair nessas fraudes\\n13h00 - 09 Jun 2024Por Kadu Soares', 'Ações recomendadas\\nBRF (BRFS3): Santander eleva preço-alvo, mas não recomenda compra na ação\\nO potencial de valorização no ativo é limitado, segundo a instituição\\n12h00 - 09 Jun 2024Por Mari Galvão', 'Ações recomendadas\\nGrupo Mateus (GMAT3) é o favorito do BTG Pactual no setor de varejo alimentício\\nO Grupo vai assumir o controle do Novo Atacarejo através da combinação de todos os negócios da empresa com as operações de atacado\\n10h00 - 09 Jun 2024Por Redação SpaceMoney', \"Ações Recomendadas\\nRede D'Or (RDOR3) adia lançamentos de 2024 e ações reagem; BTG Pactual analisa futuro da empresa\\nBanco reiterou recomendação de compra, por acreditar que plano ainda pode ser vantajoso para ação\\n09h00 - 09 Jun 2024Por José Chacon\"]\n"
          ]
        }
      ]
    },
    {
      "cell_type": "code",
      "source": [],
      "metadata": {
        "id": "Xz6eFAeEWgFf"
      },
      "execution_count": null,
      "outputs": []
    },
    {
      "cell_type": "code",
      "source": [
        "from selenium import webdriver\n",
        "from selenium.webdriver.common.by import By\n",
        "\n",
        "def scrape_news(url='https://www.spacemoney.com.br/ultimas-noticias', num_news=5):\n",
        "    options = webdriver.ChromeOptions()\n",
        "    options.add_argument('--headless')\n",
        "    options.add_argument('--no-sandbox')\n",
        "    options.add_argument('--disable-gpu')\n",
        "    options.add_argument('--disable-dev-shm-usage')\n",
        "\n",
        "    driver = webdriver.Chrome(options=options)\n",
        "\n",
        "    driver.get(url)\n",
        "\n",
        "    news = []\n",
        "    elements = driver.find_elements(By.XPATH, '//div[@class=\"linkNoticia crop\"]')\n",
        "    for element in elements[:num_news]:\n",
        "        title = element.find_element(By.TAG_NAME, 'h2').text\n",
        "        link = element.find_element(By.TAG_NAME, 'a').get_attribute('href')\n",
        "        news.append({'title': title, 'link': link})\n",
        "\n",
        "    driver.quit()\n",
        "    return news\n"
      ],
      "metadata": {
        "id": "GTUKhgh-Wmu-"
      },
      "execution_count": null,
      "outputs": []
    },
    {
      "cell_type": "code",
      "source": [
        "news"
      ],
      "metadata": {
        "colab": {
          "base_uri": "https://localhost:8080/"
        },
        "id": "LnWksK8GYgb3",
        "outputId": "fc18e3d4-e096-4182-e609-47584d317371"
      },
      "execution_count": null,
      "outputs": [
        {
          "output_type": "execute_result",
          "data": {
            "text/plain": [
              "['Ações recomendadas\\nCarrefour (CRFB3), Panvel (PNVL3) e Lojas Renner (LREN3): como a tragédia no RS afeta varejistas?\\nGenial Investimentos acredita que, neste primeiro momento, o bolso do consumidor vai estar comprometido com as compras de produtos de primeira necessidade\\n14h00 - 09 Jun 2024Por Lucas de Andrade',\n",
              " 'Golpe do Pix\\nGolpe da Multiplicação do PIX: 7 dicas para identificar e se proteger\\nEspecialista dá explica como evitar cair nessas fraudes\\n13h00 - 09 Jun 2024Por Kadu Soares',\n",
              " 'Ações recomendadas\\nBRF (BRFS3): Santander eleva preço-alvo, mas não recomenda compra na ação\\nO potencial de valorização no ativo é limitado, segundo a instituição\\n12h00 - 09 Jun 2024Por Mari Galvão',\n",
              " 'Ações recomendadas\\nGrupo Mateus (GMAT3) é o favorito do BTG Pactual no setor de varejo alimentício\\nO Grupo vai assumir o controle do Novo Atacarejo através da combinação de todos os negócios da empresa com as operações de atacado\\n10h00 - 09 Jun 2024Por Redação SpaceMoney',\n",
              " \"Ações Recomendadas\\nRede D'Or (RDOR3) adia lançamentos de 2024 e ações reagem; BTG Pactual analisa futuro da empresa\\nBanco reiterou recomendação de compra, por acreditar que plano ainda pode ser vantajoso para ação\\n09h00 - 09 Jun 2024Por José Chacon\"]"
            ]
          },
          "metadata": {},
          "execution_count": 12
        }
      ]
    },
    {
      "cell_type": "code",
      "source": [],
      "metadata": {
        "id": "BXSQQYpSYmTG"
      },
      "execution_count": null,
      "outputs": []
    },
    {
      "cell_type": "code",
      "source": [
        "\n",
        "\n",
        "# Importar bibliotecas necessárias\n",
        "from flask import Flask, jsonify, request\n",
        "from threading import Thread\n",
        "import requests\n",
        "import time\n",
        "\n",
        "# Criar a aplicação Flask\n",
        "app = Flask(__name__)\n",
        "\n",
        "@app.route('/')\n",
        "def home():\n",
        "    return \"Hello, World!\"\n",
        "\n",
        "@app.route('/api', methods=['GET'])\n",
        "def api():\n",
        "    data = {\n",
        "        \"message\": \"Hello from API\",\n",
        "        \"status\": \"success\"\n",
        "    }\n",
        "    return jsonify(data)\n",
        "\n",
        "def run():\n",
        "    app.run(host='0.0.0.0', port=5000)\n",
        "\n",
        "# Iniciar a API Flask em uma thread separada\n",
        "t = Thread(target=run)\n",
        "t.start()\n",
        "\n",
        "# Esperar alguns segundos para garantir que a API está em execução\n",
        "time.sleep(5)\n",
        "\n",
        "# Fazer uma requisição GET para a API\n",
        "response = requests.get('http://127.0.0.1:5000/api')\n",
        "print(response.json())\n"
      ],
      "metadata": {
        "colab": {
          "base_uri": "https://localhost:8080/"
        },
        "id": "CzFWTQJmhMR2",
        "outputId": "2f7857d2-9a47-4dec-c737-c474b0e18965"
      },
      "execution_count": null,
      "outputs": [
        {
          "output_type": "stream",
          "name": "stdout",
          "text": [
            " * Serving Flask app '__main__'\n",
            " * Debug mode: off\n"
          ]
        },
        {
          "output_type": "stream",
          "name": "stderr",
          "text": [
            "INFO:werkzeug:\u001b[31m\u001b[1mWARNING: This is a development server. Do not use it in a production deployment. Use a production WSGI server instead.\u001b[0m\n",
            " * Running on all addresses (0.0.0.0)\n",
            " * Running on http://127.0.0.1:5000\n",
            " * Running on http://172.28.0.12:5000\n",
            "INFO:werkzeug:\u001b[33mPress CTRL+C to quit\u001b[0m\n",
            "INFO:werkzeug:127.0.0.1 - - [09/Jun/2024 19:41:51] \"GET /api HTTP/1.1\" 200 -\n"
          ]
        },
        {
          "output_type": "stream",
          "name": "stdout",
          "text": [
            "{'message': 'Hello from API', 'status': 'success'}\n"
          ]
        }
      ]
    },
    {
      "cell_type": "code",
      "source": [],
      "metadata": {
        "id": "itBh6S1YZC6-"
      },
      "execution_count": null,
      "outputs": []
    }
  ]
}