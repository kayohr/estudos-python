{
  "nbformat": 4,
  "nbformat_minor": 0,
  "metadata": {
    "colab": {
      "provenance": [],
      "authorship_tag": "ABX9TyPqn2GoY9y6FlvjAGXzoPPs",
      "include_colab_link": true
    },
    "kernelspec": {
      "name": "python3",
      "display_name": "Python 3"
    },
    "language_info": {
      "name": "python"
    }
  },
  "cells": [
    {
      "cell_type": "markdown",
      "metadata": {
        "id": "view-in-github",
        "colab_type": "text"
      },
      "source": [
        "<a href=\"https://colab.research.google.com/github/kayohr/estudos-python/blob/main/Treinando_Python_prt3.ipynb\" target=\"_parent\"><img src=\"https://colab.research.google.com/assets/colab-badge.svg\" alt=\"Open In Colab\"/></a>"
      ]
    },
    {
      "cell_type": "code",
      "source": [],
      "metadata": {
        "id": "ShPNian87FpE"
      },
      "execution_count": null,
      "outputs": []
    },
    {
      "cell_type": "code",
      "execution_count": null,
      "metadata": {
        "colab": {
          "base_uri": "https://localhost:8080/",
          "height": 36
        },
        "id": "Iy15X2YME0V-",
        "outputId": "db6a85a8-721d-4481-92f6-004729a13714"
      },
      "outputs": [
        {
          "output_type": "execute_result",
          "data": {
            "text/plain": [
              "'582952755'"
            ],
            "application/vnd.google.colaboratory.intrinsic+json": {
              "type": "string"
            }
          },
          "metadata": {},
          "execution_count": 8
        }
      ],
      "source": [
        "texto = \"Fulno582Fu9527br55\"\n",
        "result = \"\"\n",
        "for letra in texto:\n",
        "  if letra.isdigit():\n",
        "    result += letra\n",
        "#result\n",
        "\n",
        "#filter(str.isdigit, texto)\n",
        "#list(filter(str.isdigit, texto))\n",
        "\"\".join(list(filter(str.isdigit, texto)))\n",
        "\n"
      ]
    },
    {
      "cell_type": "code",
      "source": [
        "\"\"\"\n",
        "nomes = [\"Fulano\", \"Sicrano\"]\n",
        "\n",
        "result = []\n",
        "\n",
        "for nome in nomes:\n",
        "  result.append(nome.upper())\n",
        "result\n",
        "\"\"\"\n",
        "\n",
        "\"\"\"map(str.upper, nomes)\n",
        "list(map(str.upper, nomes))\"\"\"\n",
        "\n",
        "numeros = ([2,5,3,4,1], [1,2,3], [5,8,9])\n",
        "list(map(sum, numeros))\n",
        "#list(map(sum, [numeros[0]])) #somar a primeira lista\n",
        "\n",
        "list(map(max, numeros))"
      ],
      "metadata": {
        "id": "bZx9Pq1sk_FV",
        "colab": {
          "base_uri": "https://localhost:8080/"
        },
        "outputId": "505ffea0-6a99-4d16-dea1-72d352fc2981"
      },
      "execution_count": null,
      "outputs": [
        {
          "output_type": "execute_result",
          "data": {
            "text/plain": [
              "[15]"
            ]
          },
          "metadata": {},
          "execution_count": 13
        }
      ]
    },
    {
      "cell_type": "code",
      "source": [
        "#Sem o List e map\n",
        "numeros = ([2,5,3,4,1], [1,2,3], [5,8,9])\n",
        "\n",
        "somas = []\n",
        "\n",
        "for lista in numeros:\n",
        "    soma = sum(lista)\n",
        "    somas.append(soma)\n",
        "\n",
        "somas\n",
        "\n",
        "\n",
        "primeira_lista = numeros[0]\n",
        "soma_primeira_lista = sum(primeira_lista)\n",
        "\n",
        "soma_primeira_lista"
      ],
      "metadata": {
        "colab": {
          "base_uri": "https://localhost:8080/"
        },
        "id": "JRC47KY8V4VW",
        "outputId": "8e749662-f7c7-44bd-e255-c224b9a57ba2"
      },
      "execution_count": null,
      "outputs": [
        {
          "output_type": "execute_result",
          "data": {
            "text/plain": [
              "15"
            ]
          },
          "metadata": {},
          "execution_count": 9
        }
      ]
    },
    {
      "cell_type": "code",
      "source": [
        "columns = [\"nome\", \"sobrenome\"]\n",
        "#dados = [\"fulano\", \"sicrano\"]\n",
        "dados = (['Bruno', 'Fernandes'], ['Fulanod', 'Silva'], ['Sicrano', 'Pereira'])\n",
        "\n",
        "#list(zip(columns, dados))\n",
        "#dict(zip(columns, dados))\n",
        "#dict(zip(columns, dados))['nome']\n",
        "\n",
        "#for dado in dados:\n",
        "#  print(dict(zip(columns, dados)))\n",
        "\n",
        "[dict(zip(columns, dados)) for dado in dados]"
      ],
      "metadata": {
        "colab": {
          "base_uri": "https://localhost:8080/"
        },
        "id": "-2dRPSBfXRQR",
        "outputId": "930fb852-745e-4329-b06c-89da938ff9f4"
      },
      "execution_count": null,
      "outputs": [
        {
          "output_type": "execute_result",
          "data": {
            "text/plain": [
              "[{'nome': ['Bruno', 'Fernandes'], 'sobrenome': ['Fulanod', 'Silva']},\n",
              " {'nome': ['Bruno', 'Fernandes'], 'sobrenome': ['Fulanod', 'Silva']},\n",
              " {'nome': ['Bruno', 'Fernandes'], 'sobrenome': ['Fulanod', 'Silva']}]"
            ]
          },
          "metadata": {},
          "execution_count": 1
        }
      ]
    },
    {
      "cell_type": "code",
      "source": [
        "import random\n",
        "#random.random()\n",
        "#random.randint(1, 10)\n",
        "#cores = [\"azul\", 'verde']\n",
        "#random.choice(cores)\n",
        "\n",
        "numbers = [1, 4, 5, 6, 2, 3]\n",
        "#random.sample(numbers, len(numbers))\n",
        "random.shuffle(numbers)\n",
        "numbers\n"
      ],
      "metadata": {
        "id": "_PqxFWjBcLIh",
        "colab": {
          "base_uri": "https://localhost:8080/",
          "height": 36
        },
        "outputId": "7328d0f5-ce84-4f38-e681-67bab83dad00"
      },
      "execution_count": null,
      "outputs": [
        {
          "output_type": "execute_result",
          "data": {
            "text/plain": [
              "'azul'"
            ],
            "application/vnd.google.colaboratory.intrinsic+json": {
              "type": "string"
            }
          },
          "metadata": {},
          "execution_count": 3
        }
      ]
    },
    {
      "cell_type": "code",
      "source": [
        "import itertools as it\n",
        "import functools as ft\n",
        "import statistics as st\n",
        "import uuid\n",
        "import getpass\n",
        "\n",
        "\"\"\"\n",
        "for index, item in enumerate(it.cycle('ABCD')):\n",
        "  print(item, \"produto\")\n",
        "  if index > 5:\n",
        "    break\n",
        "\"\"\"\n",
        "\"\"\"\n",
        "numeros = [1, 2, 3, 4, 5]\n",
        "list(it.accumulate(numeros))\n",
        "\"\"\"\n",
        "\n",
        "#list(it.product('ABC'))\n",
        "#list(it.permutations(\"abc\"))\n",
        "#list(it.combinations('abc', 2))\n",
        "\"\"\"\n",
        "myprint = ft.partial(print, sep=\"-\")\n",
        "myprint('fu','lano')\n",
        "myprint('a','e','i','o', 'u')\n",
        "\"\"\"\n",
        "#numeros = [1, 2, 3, 4, 5]\n",
        "#st.mean(numeros)\n",
        "#st.median(numeros)\n",
        "\n",
        "senha = getpass.getpass(\"senha:\")"
      ],
      "metadata": {
        "colab": {
          "base_uri": "https://localhost:8080/"
        },
        "id": "kOgAKhRinMy0",
        "outputId": "6c759725-bbde-4e26-a9c8-52b16c032e5d"
      },
      "execution_count": 9,
      "outputs": [
        {
          "output_type": "execute_result",
          "data": {
            "text/plain": [
              "3"
            ]
          },
          "metadata": {},
          "execution_count": 9
        }
      ]
    },
    {
      "cell_type": "code",
      "source": [],
      "metadata": {
        "id": "xii8-h7Kmwj4"
      },
      "execution_count": null,
      "outputs": []
    },
    {
      "cell_type": "code",
      "source": [
        "#Exemplo de envio de e-mail\n",
        "#barra invertida para fazer a qeubra de linha\n",
        "\n",
        "import smtplib #permite criar instacia de servidor de email\n",
        "\n",
        "SERVER = 'localhost'\n",
        "PORT = 8025 #80 para teste\n",
        "\n",
        "\n",
        "\n",
        "FROM = \"fulano@sicrano.com\"\n",
        "TO = [\"destino1@server.com\", \"destino2@server.com\"]\n",
        "SUBJECT = \"Meu e-mail via Python\"\n",
        "TEXT = \"\"\"\\\n",
        "Este é o eu e-mail enviado pela Python\n",
        "<b>Olá mundo</b>\n",
        "\"\"\"\n",
        "\n",
        "message = f\"\"\"\n",
        "From: {FROM}\n",
        "To: {\", \".join(TO)}\n",
        "Subject: {SUBJECT}\n",
        "\n",
        "{TEXT}\n",
        "\"\"\"\n",
        "\n",
        "with smtplib.SMTP(host=SERVER, port=PORT) as server:\n",
        "  server.senmail(FROM, TO, message.encode('utf-8'))"
      ],
      "metadata": {
        "id": "8eZLT_TknFJP"
      },
      "execution_count": null,
      "outputs": []
    },
    {
      "cell_type": "code",
      "source": [],
      "metadata": {
        "id": "9KBkVZUU1c1M"
      },
      "execution_count": null,
      "outputs": []
    }
  ]
}