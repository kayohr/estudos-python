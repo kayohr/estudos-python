{
  "nbformat": 4,
  "nbformat_minor": 0,
  "metadata": {
    "colab": {
      "provenance": [],
      "authorship_tag": "ABX9TyP9qGSCwI91Pt8slprXOjOh",
      "include_colab_link": true
    },
    "kernelspec": {
      "name": "python3",
      "display_name": "Python 3"
    },
    "language_info": {
      "name": "python"
    }
  },
  "cells": [
    {
      "cell_type": "markdown",
      "metadata": {
        "id": "view-in-github",
        "colab_type": "text"
      },
      "source": [
        "<a href=\"https://colab.research.google.com/github/kayohr/estudos-python/blob/main/Treinando_Python_prt3.ipynb\" target=\"_parent\"><img src=\"https://colab.research.google.com/assets/colab-badge.svg\" alt=\"Open In Colab\"/></a>"
      ]
    },
    {
      "cell_type": "code",
      "source": [],
      "metadata": {
        "id": "ShPNian87FpE"
      },
      "execution_count": null,
      "outputs": []
    },
    {
      "cell_type": "code",
      "execution_count": null,
      "metadata": {
        "colab": {
          "base_uri": "https://localhost:8080/",
          "height": 36
        },
        "id": "Iy15X2YME0V-",
        "outputId": "db6a85a8-721d-4481-92f6-004729a13714"
      },
      "outputs": [
        {
          "output_type": "execute_result",
          "data": {
            "text/plain": [
              "'582952755'"
            ],
            "application/vnd.google.colaboratory.intrinsic+json": {
              "type": "string"
            }
          },
          "metadata": {},
          "execution_count": 8
        }
      ],
      "source": [
        "texto = \"Fulno582Fu9527br55\"\n",
        "result = \"\"\n",
        "for letra in texto:\n",
        "  if letra.isdigit():\n",
        "    result += letra\n",
        "#result\n",
        "\n",
        "#filter(str.isdigit, texto)\n",
        "#list(filter(str.isdigit, texto))\n",
        "\"\".join(list(filter(str.isdigit, texto)))\n",
        "\n"
      ]
    },
    {
      "cell_type": "code",
      "source": [
        "\"\"\"\n",
        "nomes = [\"Fulano\", \"Sicrano\"]\n",
        "\n",
        "result = []\n",
        "\n",
        "for nome in nomes:\n",
        "  result.append(nome.upper())\n",
        "result\n",
        "\"\"\"\n",
        "\n",
        "\"\"\"map(str.upper, nomes)\n",
        "list(map(str.upper, nomes))\"\"\"\n",
        "\n",
        "numeros = ([2,5,3,4,1], [1,2,3], [5,8,9])\n",
        "list(map(sum, numeros))\n",
        "#list(map(sum, [numeros[0]])) #somar a primeira lista\n",
        "\n",
        "list(map(max, numeros))"
      ],
      "metadata": {
        "id": "bZx9Pq1sk_FV",
        "colab": {
          "base_uri": "https://localhost:8080/"
        },
        "outputId": "505ffea0-6a99-4d16-dea1-72d352fc2981"
      },
      "execution_count": null,
      "outputs": [
        {
          "output_type": "execute_result",
          "data": {
            "text/plain": [
              "[15]"
            ]
          },
          "metadata": {},
          "execution_count": 13
        }
      ]
    },
    {
      "cell_type": "code",
      "source": [
        "#Sem o List e map\n",
        "numeros = ([2,5,3,4,1], [1,2,3], [5,8,9])\n",
        "\n",
        "somas = []\n",
        "\n",
        "for lista in numeros:\n",
        "    soma = sum(lista)\n",
        "    somas.append(soma)\n",
        "\n",
        "somas\n",
        "\n",
        "\n",
        "primeira_lista = numeros[0]\n",
        "soma_primeira_lista = sum(primeira_lista)\n",
        "\n",
        "soma_primeira_lista"
      ],
      "metadata": {
        "colab": {
          "base_uri": "https://localhost:8080/"
        },
        "id": "JRC47KY8V4VW",
        "outputId": "8e749662-f7c7-44bd-e255-c224b9a57ba2"
      },
      "execution_count": null,
      "outputs": [
        {
          "output_type": "execute_result",
          "data": {
            "text/plain": [
              "15"
            ]
          },
          "metadata": {},
          "execution_count": 9
        }
      ]
    },
    {
      "cell_type": "code",
      "source": [
        "columns = [\"nome\", \"sobrenome\"]\n",
        "#dados = [\"fulano\", \"sicrano\"]\n",
        "dados = (['Bruno', 'Fernandes'], ['Fulanod', 'Silva'], ['Sicrano', 'Pereira'])\n",
        "\n",
        "#list(zip(columns, dados))\n",
        "#dict(zip(columns, dados))\n",
        "#dict(zip(columns, dados))['nome']\n",
        "\n",
        "#for dado in dados:\n",
        "#  print(dict(zip(columns, dados)))\n",
        "\n",
        "[dict(zip(columns, dados)) for dado in dados]"
      ],
      "metadata": {
        "colab": {
          "base_uri": "https://localhost:8080/"
        },
        "id": "-2dRPSBfXRQR",
        "outputId": "f37b5491-670a-4849-8d6a-42f56f309034"
      },
      "execution_count": null,
      "outputs": [
        {
          "output_type": "execute_result",
          "data": {
            "text/plain": [
              "[{'nome': ['Bruno', 'Fernandes'], 'sobrenome': ['Fulanod', 'Silva']},\n",
              " {'nome': ['Bruno', 'Fernandes'], 'sobrenome': ['Fulanod', 'Silva']},\n",
              " {'nome': ['Bruno', 'Fernandes'], 'sobrenome': ['Fulanod', 'Silva']}]"
            ]
          },
          "metadata": {},
          "execution_count": 1
        }
      ]
    },
    {
      "cell_type": "code",
      "source": [
        "import random\n",
        "#random.random()\n",
        "#random.randint(1, 10)\n",
        "#cores = [\"azul\", 'verde']\n",
        "#random.choice(cores)\n",
        "\n",
        "numbers = [1, 4, 5, 6, 2, 3]\n",
        "#random.sample(numbers, len(numbers))\n",
        "random.shuffle(numbers)\n",
        "numbers\n"
      ],
      "metadata": {
        "id": "_PqxFWjBcLIh",
        "colab": {
          "base_uri": "https://localhost:8080/",
          "height": 36
        },
        "outputId": "7328d0f5-ce84-4f38-e681-67bab83dad00"
      },
      "execution_count": null,
      "outputs": [
        {
          "output_type": "execute_result",
          "data": {
            "text/plain": [
              "'azul'"
            ],
            "application/vnd.google.colaboratory.intrinsic+json": {
              "type": "string"
            }
          },
          "metadata": {},
          "execution_count": 3
        }
      ]
    },
    {
      "cell_type": "code",
      "source": [
        "import itertools as it\n",
        "import functools as ft\n",
        "import statistics as st\n",
        "import uuid\n",
        "import getpass\n",
        "\n",
        "\"\"\"\n",
        "for index, item in enumerate(it.cycle('ABCD')):\n",
        "  print(item, \"produto\")\n",
        "  if index > 5:\n",
        "    break\n",
        "\"\"\"\n",
        "\"\"\"\n",
        "numeros = [1, 2, 3, 4, 5]\n",
        "list(it.accumulate(numeros))\n",
        "\"\"\"\n",
        "\n",
        "#list(it.product('ABC'))\n",
        "#list(it.permutations(\"abc\"))\n",
        "#list(it.combinations('abc', 2))\n",
        "\"\"\"\n",
        "myprint = ft.partial(print, sep=\"-\")\n",
        "myprint('fu','lano')\n",
        "myprint('a','e','i','o', 'u')\n",
        "\"\"\"\n",
        "#numeros = [1, 2, 3, 4, 5]\n",
        "#st.mean(numeros)\n",
        "#st.median(numeros)\n",
        "\n",
        "senha = getpass.getpass(\"senha:\")"
      ],
      "metadata": {
        "colab": {
          "base_uri": "https://localhost:8080/"
        },
        "id": "kOgAKhRinMy0",
        "outputId": "6c759725-bbde-4e26-a9c8-52b16c032e5d"
      },
      "execution_count": null,
      "outputs": [
        {
          "output_type": "execute_result",
          "data": {
            "text/plain": [
              "3"
            ]
          },
          "metadata": {},
          "execution_count": 9
        }
      ]
    },
    {
      "cell_type": "code",
      "source": [],
      "metadata": {
        "id": "xii8-h7Kmwj4"
      },
      "execution_count": null,
      "outputs": []
    },
    {
      "cell_type": "code",
      "source": [
        "#Exemplo de envio de e-mail\n",
        "#barra invertida para fazer a qeubra de linha\n",
        "\n",
        "import smtplib #permite criar instacia de servidor de email\n",
        "\n",
        "SERVER = 'localhost'\n",
        "PORT = 8025 #80 para teste\n",
        "\n",
        "\n",
        "\n",
        "FROM = \"fulano@sicrano.com\"\n",
        "TO = [\"destino1@server.com\", \"destino2@server.com\"]\n",
        "SUBJECT = \"Meu e-mail via Python\"\n",
        "TEXT = \"\"\"\\\n",
        "Este é o eu e-mail enviado pela Python\n",
        "<b>Olá mundo</b>\n",
        "\"\"\"\n",
        "\n",
        "message = f\"\"\"\n",
        "From: {FROM}\n",
        "To: {\", \".join(TO)}\n",
        "Subject: {SUBJECT}\n",
        "\n",
        "{TEXT}\n",
        "\"\"\"\n",
        "\n",
        "with smtplib.SMTP(host=SERVER, port=PORT) as server:\n",
        "  server.senmail(FROM, TO, message.encode('utf-8'))"
      ],
      "metadata": {
        "id": "8eZLT_TknFJP"
      },
      "execution_count": null,
      "outputs": []
    },
    {
      "cell_type": "code",
      "source": [],
      "metadata": {
        "id": "9KBkVZUU1c1M"
      },
      "execution_count": null,
      "outputs": []
    },
    {
      "cell_type": "code",
      "source": [
        "#Formula de heron, calcular a area de um triangulo\n",
        "def heron(a, b, c):\n",
        "  perimeter = a + b+ c\n",
        "  s = perimeter /2\n",
        "  area = s* (s-a) * (s-b) * (s-c)\n",
        "  return area ** 0.5 #math.sqrt(area)\n",
        "\n",
        "#area_triangulo = heron(3, 4, 5)\n",
        "#print(area_triangulo)\n",
        "\n",
        "def heron2(params):\n",
        "  return heron(*params) #desempacotar /\n",
        "\n",
        "triangulos = [\n",
        "    (3,4,5),\n",
        "    (5,12,13),\n",
        "    (13,35,37)\n",
        "]\n",
        "\n",
        "print(list(map(heron2, triangulos)))\n",
        "\n",
        "for t in triangulos:\n",
        "  #area = heron(t[0], t[1], t[2])\n",
        " # area = heron(*t)\n",
        "  area = heron2(t)\n",
        "  print(f\"A area do triangulo é: {area}\")\n"
      ],
      "metadata": {
        "colab": {
          "base_uri": "https://localhost:8080/"
        },
        "id": "Hrm8sHhybxnt",
        "outputId": "20c4100d-178f-4cca-ecac-9986735e9042"
      },
      "execution_count": null,
      "outputs": [
        {
          "output_type": "stream",
          "name": "stdout",
          "text": [
            "[6.0, 30.0, 227.41413214661924]\n",
            "A area do triangulo é: 6.0\n",
            "A area do triangulo é: 30.0\n",
            "A area do triangulo é: 227.41413214661924\n"
          ]
        }
      ]
    },
    {
      "cell_type": "code",
      "source": [
        "nomes = [\"Bruno\", 'Joao', 'Bernado']\n",
        "\"\"\"\n",
        "for name in nomes:\n",
        "  if name.lower().startswith('b'):\n",
        "    print(name)\n",
        "\"\"\"\n",
        "def starts_with_b(text):\n",
        "  return text[0].lower() == 'b'\n",
        "  #return text.startswith(('b', 'B'))\n",
        "\n",
        "print(*list(filter(starts_with_b, nomes)))"
      ],
      "metadata": {
        "colab": {
          "base_uri": "https://localhost:8080/"
        },
        "id": "YCl8UxCW061v",
        "outputId": "432eecd7-b7c9-4636-a463-922ef4bcfde4"
      },
      "execution_count": null,
      "outputs": [
        {
          "output_type": "stream",
          "name": "stdout",
          "text": [
            "Bruno Bernado\n"
          ]
        }
      ]
    },
    {
      "cell_type": "code",
      "source": [
        "def soma(n1, n2):\n",
        "  return n1 + n2\n",
        "'''\n",
        "args = (20, 30)\n",
        "\n",
        "print(soma(*args))\n",
        "\n",
        "args2= {'n2': 90, 'n1': 100}\n",
        "\n",
        "print(soma(**args2))\n",
        "'''\n",
        "lista_valores = [\n",
        "    {'n2': 90, 'n1':100},\n",
        "    {'n2': 90, 'n1':200},\n",
        "    {'n2': 9, 'n1':650},\n",
        "    (8, 10),\n",
        "    [8,13]\n",
        "]\n",
        "\n",
        "for item in lista_valores:\n",
        "  if isinstance(item, dict):\n",
        "    print(soma(**item))\n",
        "  else:\n",
        "    print(soma(*item))"
      ],
      "metadata": {
        "colab": {
          "base_uri": "https://localhost:8080/"
        },
        "id": "XYihMeF8bxZW",
        "outputId": "01f9d225-d572-4df6-b7d7-f8eaf8e59303"
      },
      "execution_count": null,
      "outputs": [
        {
          "output_type": "stream",
          "name": "stdout",
          "text": [
            "190\n",
            "290\n",
            "659\n",
            "18\n",
            "21\n"
          ]
        }
      ]
    },
    {
      "cell_type": "code",
      "source": [
        "\"\"\"\n",
        "contador = 0\n",
        "def incrementa():\n",
        "  global contador\n",
        "  contador +=1\n",
        "\n",
        "incrementa()\n",
        "incrementa()\n",
        "\n",
        "print(contador)\n",
        "\"\"\"\n",
        "\"\"\"\n",
        "nome = 'Global'\n",
        "\n",
        "def funcao():\n",
        "  nome = 'Local'\n",
        "  print('Nome:local:', nome)\n",
        "  nome = globals()['nome']\n",
        "  print('Nome Global:', nome)\n",
        "\n",
        "funcao()\n",
        "\"\"\"\n",
        "contador = 0\n",
        "\n",
        "def incrementa():\n",
        "  global contador\n",
        "  contador +=1\n",
        "\n",
        "  subcontador = 0\n",
        "\n",
        "  def func_interno():\n",
        "    global contador\n",
        "    contador +=1\n",
        "\n",
        "    nonlocal subcontador\n",
        "    subcontador +=1\n",
        "\n",
        "  func_interno()\n",
        "\n",
        "incrementa()\n",
        "incrementa()\n",
        "\n",
        "print(\"Contador:\", contador)"
      ],
      "metadata": {
        "id": "-RPcBbCtBdQE",
        "colab": {
          "base_uri": "https://localhost:8080/"
        },
        "outputId": "7a97cb62-5afe-4f27-b514-d31d977e9366"
      },
      "execution_count": null,
      "outputs": [
        {
          "output_type": "stream",
          "name": "stdout",
          "text": [
            "Contador: 4\n"
          ]
        }
      ]
    },
    {
      "cell_type": "code",
      "source": [
        "import time\n",
        "'''\n",
        "def imprime_nome(nome, sobrenome = \"Cardoz\"):\n",
        "  print(f'seu nime é {nome} {sobrenome}')\n",
        "\n",
        "imprime_nome(\"Fulano\", 'Sicrano')\n",
        "imprime_nome(\"Fulano\")\n",
        "'''\n",
        "\n",
        "def conect(host, timeout=10):\n",
        "  print('')\n",
        "  for i in range(1, timeout + 1):\n",
        "    time.sleep(1)\n",
        "    print('.' * i)\n",
        "conect('localhost', 5)"
      ],
      "metadata": {
        "colab": {
          "base_uri": "https://localhost:8080/"
        },
        "id": "aj3aVMvcV0BX",
        "outputId": "507b4b7c-62d5-4360-8ade-68130c13e4aa"
      },
      "execution_count": 1,
      "outputs": [
        {
          "output_type": "stream",
          "name": "stdout",
          "text": [
            "\n",
            ".\n",
            "..\n",
            "...\n",
            "....\n",
            ".....\n"
          ]
        }
      ]
    },
    {
      "cell_type": "code",
      "source": [
        "\"\"\"\n",
        "def adicionar_list(valor, lista=None):\n",
        "  if lista is None:\n",
        "    lista = []\n",
        "  lista.append(valor)\n",
        "  return lista\n",
        "\n",
        "adicionar_list(4)\n",
        "adicionar_list(4)\n",
        "adicionar_list(4)\n",
        "print(adicionar_list(6))\n",
        "\"\"\"\n",
        "\"\"\"\n",
        "def funcao(*args, timeout=10):\n",
        "  for item in args:\n",
        "    print(item)\n",
        "\n",
        "  print(f'timeout {timeout}')\n",
        "\n",
        "funcao(\"string\", 1, True, [])\n",
        "\"\"\"\n",
        "\n",
        "def funcao(*args, timeout=10, **kwargs):\n",
        "  for item in args:\n",
        "    print(item)\n",
        "\n",
        "  print(kwargs)\n",
        "\n",
        "  print(f'timeout {timeout}')\n",
        "\n",
        "funcao(\"string\", 1, True, [], nome = 'joao', cidade = 'viana', data= 'hoje')"
      ],
      "metadata": {
        "id": "4RpyBVK_iCy-",
        "colab": {
          "base_uri": "https://localhost:8080/"
        },
        "outputId": "3bf1d39c-d1d0-449d-af08-f650d779e9a7"
      },
      "execution_count": 13,
      "outputs": [
        {
          "output_type": "stream",
          "name": "stdout",
          "text": [
            "string\n",
            "1\n",
            "True\n",
            "[]\n",
            "{'nome': 'joao', 'cidade': 'viana', 'data': 'hoje'}\n",
            "timeout 10\n"
          ]
        }
      ]
    },
    {
      "cell_type": "code",
      "source": [],
      "metadata": {
        "id": "OD_tsm5bMyYq"
      },
      "execution_count": null,
      "outputs": []
    }
  ]
}